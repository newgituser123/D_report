{
 "cells": [
  {
   "cell_type": "markdown",
   "metadata": {},
   "source": [
    "### D_report"
   ]
  },
  {
   "cell_type": "markdown",
   "metadata": {},
   "source": [
    "В данном блокноте содержится реально используемый алгоритм, состоящий из следующих этапов:\n",
    "- Получение данных нового периода из различных источников\n",
    "- Преобразования в стандартный формат\n",
    "- Обьединение с историческими данными\n",
    "- Расчёт стоимостей\n",
    "- Расчёт показателей YTD, Grt\n",
    "- Проверка корректности результатов каждого этапа\n",
    "- Преобразовани в утверждённый формат отчётности"
   ]
  },
  {
   "cell_type": "markdown",
   "metadata": {},
   "source": [
    "###### Содержание \n",
    "- 1) Грузим main (основной файл)\n",
    "- 2) Грузим Price, Prodmap\n",
    "- 3) Записываем функции:\n",
    "    - files_from_folder_to_df,\n",
    "    - delete_totals,\n",
    "    - find_not_mapped,\n",
    "    - pivoted\n",
    "    - YTD_LY\n",
    "    - YTD_2021\n",
    "    - Grt_YTD\n",
    "- 4) Грузим и стандартизируем исходные отчёты\n",
    "- 5) Сцепляем в единый \"monthly_df\"\n",
    "- 6) Предпроверка\n",
    "- 7) Присоединяем montly_df к main\n",
    "- 8) Задаём Cur_mon, Cur_mon_LY \n",
    "- 9) Постпроверка\n",
    "- 10) Расчёт Sales YTD & YTD_LY\n",
    "- 11) Оставляем Cur_mon и YTD\n",
    "- 12) Рассчитываем Тотал по дистрам\n",
    "- 13) Присоединяем Тотал к _ selected_packs\n",
    "- 14) Расчёт Руб\n",
    "- 15) Добавляем Тотал по продуктам в Уп и Руб\n",
    "- 16) Добавляем приросты\n",
    "- 17) Выстраиваем в нужный вид\n",
    "- 18) Делим D на: month и YTD"
   ]
  },
  {
   "cell_type": "code",
   "execution_count": 1,
   "metadata": {},
   "outputs": [],
   "source": [
    "import pandas as pd\n",
    "import os\n",
    "import warnings\n",
    "warnings.filterwarnings(\"ignore\")"
   ]
  },
  {
   "cell_type": "code",
   "execution_count": 2,
   "metadata": {},
   "outputs": [],
   "source": [
    "pd.set_option('display.max_rows', 150)\n",
    "pd.options.display.float_format = '{:,.2f}'.format"
   ]
  },
  {
   "cell_type": "code",
   "execution_count": 3,
   "metadata": {},
   "outputs": [],
   "source": [
    "#Устанавливаем текущий период\n",
    "cur_per = '2021_03'"
   ]
  },
  {
   "cell_type": "markdown",
   "metadata": {},
   "source": [
    "# 1) Грузим main\n",
    "основной файл с продажами  (прошлого года + этого по предыдущий месяц)"
   ]
  },
  {
   "cell_type": "code",
   "execution_count": 4,
   "metadata": {},
   "outputs": [],
   "source": [
    "os.chdir(r\"C:\\Data\\Илья\\DataScience\\D_report\\00_D\")\n",
    "main = pd.read_excel('Data_enc.xlsx')"
   ]
  },
  {
   "cell_type": "code",
   "execution_count": 5,
   "metadata": {
    "scrolled": true
   },
   "outputs": [
    {
     "data": {
      "text/html": [
       "<div>\n",
       "<style scoped>\n",
       "    .dataframe tbody tr th:only-of-type {\n",
       "        vertical-align: middle;\n",
       "    }\n",
       "\n",
       "    .dataframe tbody tr th {\n",
       "        vertical-align: top;\n",
       "    }\n",
       "\n",
       "    .dataframe thead th {\n",
       "        text-align: right;\n",
       "    }\n",
       "</style>\n",
       "<table border=\"1\" class=\"dataframe\">\n",
       "  <thead>\n",
       "    <tr style=\"text-align: right;\">\n",
       "      <th></th>\n",
       "      <th>Distributor</th>\n",
       "      <th>Product_id_SS</th>\n",
       "      <th>Product_name_SS</th>\n",
       "      <th>S1904P</th>\n",
       "      <th>S1905P</th>\n",
       "      <th>S1906P</th>\n",
       "      <th>S1907P</th>\n",
       "      <th>S1908P</th>\n",
       "      <th>S1909P</th>\n",
       "      <th>S1910P</th>\n",
       "      <th>...</th>\n",
       "      <th>S2005P</th>\n",
       "      <th>S2006P</th>\n",
       "      <th>S2007P</th>\n",
       "      <th>S2008P</th>\n",
       "      <th>S2009P</th>\n",
       "      <th>S2010P</th>\n",
       "      <th>S2011P</th>\n",
       "      <th>S2012P</th>\n",
       "      <th>S2101P</th>\n",
       "      <th>S2102P</th>\n",
       "    </tr>\n",
       "  </thead>\n",
       "  <tbody>\n",
       "    <tr>\n",
       "      <th>941</th>\n",
       "      <td>D9</td>\n",
       "      <td>300025095</td>\n",
       "      <td>Redinesp 5</td>\n",
       "      <td>691</td>\n",
       "      <td>656</td>\n",
       "      <td>305</td>\n",
       "      <td>603</td>\n",
       "      <td>516</td>\n",
       "      <td>742</td>\n",
       "      <td>197</td>\n",
       "      <td>...</td>\n",
       "      <td>337</td>\n",
       "      <td>503</td>\n",
       "      <td>286</td>\n",
       "      <td>958</td>\n",
       "      <td>739</td>\n",
       "      <td>529</td>\n",
       "      <td>966</td>\n",
       "      <td>193</td>\n",
       "      <td>320</td>\n",
       "      <td>752</td>\n",
       "    </tr>\n",
       "    <tr>\n",
       "      <th>942</th>\n",
       "      <td>D9</td>\n",
       "      <td>300009262</td>\n",
       "      <td>Senade tab 13,5mg №500</td>\n",
       "      <td>164</td>\n",
       "      <td>476</td>\n",
       "      <td>890</td>\n",
       "      <td>346</td>\n",
       "      <td>179</td>\n",
       "      <td>775</td>\n",
       "      <td>948</td>\n",
       "      <td>...</td>\n",
       "      <td>32</td>\n",
       "      <td>383</td>\n",
       "      <td>535</td>\n",
       "      <td>288</td>\n",
       "      <td>266</td>\n",
       "      <td>11</td>\n",
       "      <td>899</td>\n",
       "      <td>16</td>\n",
       "      <td>397</td>\n",
       "      <td>855</td>\n",
       "    </tr>\n",
       "    <tr>\n",
       "      <th>943</th>\n",
       "      <td>D9</td>\n",
       "      <td>300000727</td>\n",
       "      <td>Sparflo tab f/c 200mg №6</td>\n",
       "      <td>384</td>\n",
       "      <td>410</td>\n",
       "      <td>499</td>\n",
       "      <td>910</td>\n",
       "      <td>849</td>\n",
       "      <td>134</td>\n",
       "      <td>29</td>\n",
       "      <td>...</td>\n",
       "      <td>526</td>\n",
       "      <td>60</td>\n",
       "      <td>401</td>\n",
       "      <td>225</td>\n",
       "      <td>323</td>\n",
       "      <td>622</td>\n",
       "      <td>962</td>\n",
       "      <td>864</td>\n",
       "      <td>750</td>\n",
       "      <td>897</td>\n",
       "    </tr>\n",
       "    <tr>\n",
       "      <th>944</th>\n",
       "      <td>D9</td>\n",
       "      <td>300029824</td>\n",
       "      <td>Texared injection 20 mg №1</td>\n",
       "      <td>538</td>\n",
       "      <td>177</td>\n",
       "      <td>328</td>\n",
       "      <td>792</td>\n",
       "      <td>195</td>\n",
       "      <td>616</td>\n",
       "      <td>966</td>\n",
       "      <td>...</td>\n",
       "      <td>662</td>\n",
       "      <td>516</td>\n",
       "      <td>209</td>\n",
       "      <td>817</td>\n",
       "      <td>372</td>\n",
       "      <td>665</td>\n",
       "      <td>228</td>\n",
       "      <td>790</td>\n",
       "      <td>774</td>\n",
       "      <td>193</td>\n",
       "    </tr>\n",
       "    <tr>\n",
       "      <th>945</th>\n",
       "      <td>D9</td>\n",
       "      <td>300030128</td>\n",
       "      <td>Texared tablets 20 mg №10</td>\n",
       "      <td>972</td>\n",
       "      <td>932</td>\n",
       "      <td>656</td>\n",
       "      <td>366</td>\n",
       "      <td>754</td>\n",
       "      <td>276</td>\n",
       "      <td>116</td>\n",
       "      <td>...</td>\n",
       "      <td>427</td>\n",
       "      <td>456</td>\n",
       "      <td>518</td>\n",
       "      <td>406</td>\n",
       "      <td>514</td>\n",
       "      <td>789</td>\n",
       "      <td>627</td>\n",
       "      <td>626</td>\n",
       "      <td>200</td>\n",
       "      <td>715</td>\n",
       "    </tr>\n",
       "  </tbody>\n",
       "</table>\n",
       "<p>5 rows × 26 columns</p>\n",
       "</div>"
      ],
      "text/plain": [
       "    Distributor  Product_id_SS             Product_name_SS  S1904P  S1905P  \\\n",
       "941          D9      300025095                  Redinesp 5     691     656   \n",
       "942          D9      300009262      Senade tab 13,5mg №500     164     476   \n",
       "943          D9      300000727    Sparflo tab f/c 200mg №6     384     410   \n",
       "944          D9      300029824  Texared injection 20 mg №1     538     177   \n",
       "945          D9      300030128   Texared tablets 20 mg №10     972     932   \n",
       "\n",
       "     S1906P  S1907P  S1908P  S1909P  S1910P  ...  S2005P  S2006P  S2007P  \\\n",
       "941     305     603     516     742     197  ...     337     503     286   \n",
       "942     890     346     179     775     948  ...      32     383     535   \n",
       "943     499     910     849     134      29  ...     526      60     401   \n",
       "944     328     792     195     616     966  ...     662     516     209   \n",
       "945     656     366     754     276     116  ...     427     456     518   \n",
       "\n",
       "     S2008P  S2009P  S2010P  S2011P  S2012P  S2101P  S2102P  \n",
       "941     958     739     529     966     193     320     752  \n",
       "942     288     266      11     899      16     397     855  \n",
       "943     225     323     622     962     864     750     897  \n",
       "944     817     372     665     228     790     774     193  \n",
       "945     406     514     789     627     626     200     715  \n",
       "\n",
       "[5 rows x 26 columns]"
      ]
     },
     "execution_count": 5,
     "metadata": {},
     "output_type": "execute_result"
    }
   ],
   "source": [
    "main.tail()"
   ]
  },
  {
   "cell_type": "markdown",
   "metadata": {},
   "source": [
    "# 2) Грузим Price, Prodmap"
   ]
  },
  {
   "cell_type": "markdown",
   "metadata": {},
   "source": [
    "###### Prices"
   ]
  },
  {
   "cell_type": "code",
   "execution_count": 6,
   "metadata": {},
   "outputs": [],
   "source": [
    "os.chdir(r\"C:\\Data\\Илья\\DataScience\\D_report\\00_D\")\n",
    "prices = pd.read_excel('Prices_enc.xlsx')"
   ]
  },
  {
   "cell_type": "code",
   "execution_count": 7,
   "metadata": {
    "scrolled": false
   },
   "outputs": [
    {
     "data": {
      "text/html": [
       "<div>\n",
       "<style scoped>\n",
       "    .dataframe tbody tr th:only-of-type {\n",
       "        vertical-align: middle;\n",
       "    }\n",
       "\n",
       "    .dataframe tbody tr th {\n",
       "        vertical-align: top;\n",
       "    }\n",
       "\n",
       "    .dataframe thead th {\n",
       "        text-align: right;\n",
       "    }\n",
       "</style>\n",
       "<table border=\"1\" class=\"dataframe\">\n",
       "  <thead>\n",
       "    <tr style=\"text-align: right;\">\n",
       "      <th></th>\n",
       "      <th>Product_id_SS</th>\n",
       "      <th>Product_name_SS</th>\n",
       "      <th>Price_fix_RUB</th>\n",
       "    </tr>\n",
       "  </thead>\n",
       "  <tbody>\n",
       "    <tr>\n",
       "      <th>0</th>\n",
       "      <td>300027136</td>\n",
       "      <td>Allerway 5 mg tab №10</td>\n",
       "      <td>199</td>\n",
       "    </tr>\n",
       "    <tr>\n",
       "      <th>1</th>\n",
       "      <td>300027158</td>\n",
       "      <td>Allerway 5 mg tab №30</td>\n",
       "      <td>810</td>\n",
       "    </tr>\n",
       "    <tr>\n",
       "      <th>2</th>\n",
       "      <td>300031318</td>\n",
       "      <td>Allerway Express (1x10s)Tab Russia</td>\n",
       "      <td>408</td>\n",
       "    </tr>\n",
       "    <tr>\n",
       "      <th>3</th>\n",
       "      <td>300001611</td>\n",
       "      <td>Bion 3 tab №10</td>\n",
       "      <td>368</td>\n",
       "    </tr>\n",
       "    <tr>\n",
       "      <th>4</th>\n",
       "      <td>300001761</td>\n",
       "      <td>Bion 3 tab №30</td>\n",
       "      <td>443</td>\n",
       "    </tr>\n",
       "  </tbody>\n",
       "</table>\n",
       "</div>"
      ],
      "text/plain": [
       "   Product_id_SS                     Product_name_SS  Price_fix_RUB\n",
       "0      300027136               Allerway 5 mg tab №10            199\n",
       "1      300027158               Allerway 5 mg tab №30            810\n",
       "2      300031318  Allerway Express (1x10s)Tab Russia            408\n",
       "3      300001611                      Bion 3 tab №10            368\n",
       "4      300001761                      Bion 3 tab №30            443"
      ]
     },
     "execution_count": 7,
     "metadata": {},
     "output_type": "execute_result"
    }
   ],
   "source": [
    "prices.head()"
   ]
  },
  {
   "cell_type": "markdown",
   "metadata": {},
   "source": [
    "### Prodmap"
   ]
  },
  {
   "cell_type": "code",
   "execution_count": 8,
   "metadata": {},
   "outputs": [],
   "source": [
    "os.chdir(r\"C:\\Data\\Илья\\DataScience\\D_report\\00_D\")\n",
    "prodmap = pd.read_excel('Prodmap_enc.xlsx')\n",
    "prodmap.Product_name_origin = prodmap.Product_name_origin.str.lower()"
   ]
  },
  {
   "cell_type": "markdown",
   "metadata": {},
   "source": [
    "# 3) Записываем Функции"
   ]
  },
  {
   "cell_type": "code",
   "execution_count": 10,
   "metadata": {
    "scrolled": true
   },
   "outputs": [],
   "source": [
    "def files_from_folder_to_df(path):\n",
    "    os.chdir(path )\n",
    "    report_list = os.listdir() \n",
    "    list_of_dfs = []\n",
    "    for file in report_list:\n",
    "        df = pd.read_excel(file)\n",
    "        list_of_dfs.append(df)\n",
    "    return pd.concat(list_of_dfs, ignore_index=True)"
   ]
  },
  {
   "cell_type": "code",
   "execution_count": 11,
   "metadata": {},
   "outputs": [],
   "source": [
    "def delete_totals(col_name: str):\n",
    "    return big_df[big_df[col_name].notnull()]"
   ]
  },
  {
   "cell_type": "code",
   "execution_count": 12,
   "metadata": {},
   "outputs": [],
   "source": [
    "def find_not_mapped(col_name: str):\n",
    "    not_mapped = big_df_ss[big_df_ss.Product_id_SS.isnull()][col_name].unique()\n",
    "    if len(not_mapped)==0:\n",
    "        print('ОК. Все продукты смепплены!')\n",
    "        return\n",
    "    nm = (pd.Series(not_mapped, name = 'Product')).sort_values()\n",
    "    print(nm)\n",
    "    raise SystemExit(\"Возьми Not_mapped и дополни Prodmap!\")"
   ]
  },
  {
   "cell_type": "code",
   "execution_count": 13,
   "metadata": {},
   "outputs": [],
   "source": [
    "def pivoted(qty_col: str):\n",
    "    pi_df =  big_df_ss.pivot_table(index = ['Distributor','Month','Product_id_SS','Product_name_SS'],\n",
    "                                   values = qty_col, aggfunc = 'sum', fill_value=0)\n",
    "    return pi_df.reset_index()"
   ]
  },
  {
   "cell_type": "code",
   "execution_count": 14,
   "metadata": {},
   "outputs": [],
   "source": [
    "def YTD_1920(mon):\n",
    "    x = main.S1904P\n",
    "    if mon == 'Apr':\n",
    "        return x\n",
    "    x += main.S1905P\n",
    "    if mon == 'May':\n",
    "        return x\n",
    "    x += main.S1906P\n",
    "    if mon == 'Jun':\n",
    "        return x\n",
    "    x += main.S1907P\n",
    "    if mon == 'Jul':\n",
    "        return x\n",
    "    x += main.S1908P\n",
    "    if mon == 'Aug':\n",
    "        return x  \n",
    "    x += main.S1909P\n",
    "    if mon == 'Sep':\n",
    "        return x\n",
    "    x += main.S1910P\n",
    "    if mon == 'Oct':\n",
    "        return x  \n",
    "    x += main.S1911P\n",
    "    if mon == 'Nov':\n",
    "        return x\n",
    "    x += main.S1912P\n",
    "    if mon == 'Dec':\n",
    "        return x\n",
    "    x += main.S2001P\n",
    "    if mon == 'Jan':\n",
    "        return x\n",
    "    x += main.S2002P\n",
    "    if mon == 'Feb':\n",
    "        return x\n",
    "    x += main.S2003P\n",
    "    if mon == 'Mar':\n",
    "        return x"
   ]
  },
  {
   "cell_type": "code",
   "execution_count": 15,
   "metadata": {},
   "outputs": [],
   "source": [
    "def YTD_2021(mon):\n",
    "    x = main.S2004P\n",
    "    if mon == 'Apr':\n",
    "        return x\n",
    "    x += main.S2005P\n",
    "    if mon == 'May':\n",
    "        return x\n",
    "    x += main.S2006P\n",
    "    if mon == 'Jun':\n",
    "        return x\n",
    "    x += main.S2007P\n",
    "    if mon == 'Jul':\n",
    "        return x\n",
    "    x += main.S2008P\n",
    "    if mon == 'Aug':\n",
    "        return x  \n",
    "    x += main.S2009P\n",
    "    if mon == 'Sep':\n",
    "        return x\n",
    "    x += main.S2010P\n",
    "    if mon == 'Oct':\n",
    "        return x  \n",
    "    x += main.S2011P\n",
    "    if mon == 'Nov':\n",
    "        return x\n",
    "    x += main.S2012P\n",
    "    if mon == 'Dec':\n",
    "        return x\n",
    "    x += main.S2101P\n",
    "    if mon == 'Jan':\n",
    "        return x\n",
    "    x += main.S2102P\n",
    "    if mon == 'Feb':\n",
    "        return x\n",
    "    x += main.S2103P\n",
    "    if mon == 'Mar':\n",
    "        return x"
   ]
  },
  {
   "cell_type": "code",
   "execution_count": 16,
   "metadata": {},
   "outputs": [],
   "source": [
    "def Grt_YTD(row):\n",
    "    if selected_all.YTD_LY[row] == 0:\n",
    "        return 0\n",
    "    return selected_all.YTD[row] / selected_all.YTD_LY[row] - 1"
   ]
  },
  {
   "cell_type": "code",
   "execution_count": 17,
   "metadata": {},
   "outputs": [],
   "source": [
    "def Grt_month(row):\n",
    "    if selected_all.Cur_mon_LY[row] == 0:\n",
    "        return 0\n",
    "    return (selected_all.Cur_mon[row] / selected_all.Cur_mon_LY[row] - 1)"
   ]
  },
  {
   "cell_type": "markdown",
   "metadata": {},
   "source": [
    "# 4) Грузим и трансформируем в стандарт исходные отчёты дистров "
   ]
  },
  {
   "cell_type": "markdown",
   "metadata": {},
   "source": [
    "## D1"
   ]
  },
  {
   "cell_type": "code",
   "execution_count": 18,
   "metadata": {},
   "outputs": [],
   "source": [
    "path = r\"C:\\Data\\Илья\\DataScience\\D_report\\01_D\"\n",
    "col_name ='NM_MED'\n",
    "qty_col = \"Qty\""
   ]
  },
  {
   "cell_type": "code",
   "execution_count": 19,
   "metadata": {},
   "outputs": [],
   "source": [
    "big_df = files_from_folder_to_df(path)\n",
    "big_df['Month'] = cur_per\n",
    "big_df['Distributor'] = 'D1'"
   ]
  },
  {
   "cell_type": "code",
   "execution_count": 20,
   "metadata": {},
   "outputs": [],
   "source": [
    "big_df_ss = delete_totals(col_name)\n",
    "big_df_ss[col_name] = big_df_ss[col_name].str.lower() "
   ]
  },
  {
   "cell_type": "code",
   "execution_count": 21,
   "metadata": {},
   "outputs": [
    {
     "name": "stdout",
     "output_type": "stream",
     "text": [
      "ОК. Все продукты смепплены!\n"
     ]
    }
   ],
   "source": [
    "big_df_ss = pd.merge(big_df_ss, prodmap, how ='left', left_on = col_name, right_on = 'Product_name_origin')\n",
    "find_not_mapped(col_name)"
   ]
  },
  {
   "cell_type": "code",
   "execution_count": 22,
   "metadata": {},
   "outputs": [],
   "source": [
    "# Только для данного дистра\n",
    "big_df_ss['Qty'] = big_df_ss.SALES - big_df_ss.RETURN"
   ]
  },
  {
   "cell_type": "code",
   "execution_count": 23,
   "metadata": {},
   "outputs": [],
   "source": [
    "pi_df = pivoted(qty_col)\n",
    "D1 = pi_df.copy()"
   ]
  },
  {
   "cell_type": "code",
   "execution_count": 24,
   "metadata": {},
   "outputs": [
    {
     "data": {
      "text/html": [
       "<div>\n",
       "<style scoped>\n",
       "    .dataframe tbody tr th:only-of-type {\n",
       "        vertical-align: middle;\n",
       "    }\n",
       "\n",
       "    .dataframe tbody tr th {\n",
       "        vertical-align: top;\n",
       "    }\n",
       "\n",
       "    .dataframe thead th {\n",
       "        text-align: right;\n",
       "    }\n",
       "</style>\n",
       "<table border=\"1\" class=\"dataframe\">\n",
       "  <thead>\n",
       "    <tr style=\"text-align: right;\">\n",
       "      <th></th>\n",
       "      <th>Distributor</th>\n",
       "      <th>Month</th>\n",
       "      <th>Product_id_SS</th>\n",
       "      <th>Product_name_SS</th>\n",
       "      <th>Packs</th>\n",
       "    </tr>\n",
       "  </thead>\n",
       "  <tbody>\n",
       "    <tr>\n",
       "      <th>58</th>\n",
       "      <td>D1</td>\n",
       "      <td>2021_03</td>\n",
       "      <td>300027136</td>\n",
       "      <td>Allerway 5 mg tab №10</td>\n",
       "      <td>150</td>\n",
       "    </tr>\n",
       "    <tr>\n",
       "      <th>60</th>\n",
       "      <td>D1</td>\n",
       "      <td>2021_03</td>\n",
       "      <td>300027158</td>\n",
       "      <td>Allerway 5 mg tab №30</td>\n",
       "      <td>158</td>\n",
       "    </tr>\n",
       "    <tr>\n",
       "      <th>79</th>\n",
       "      <td>D1</td>\n",
       "      <td>2021_03</td>\n",
       "      <td>300031318</td>\n",
       "      <td>Allerway Express (1x10s)Tab Russia</td>\n",
       "      <td>66</td>\n",
       "    </tr>\n",
       "    <tr>\n",
       "      <th>15</th>\n",
       "      <td>D1</td>\n",
       "      <td>2021_03</td>\n",
       "      <td>300001611</td>\n",
       "      <td>Bion 3 tab №10</td>\n",
       "      <td>84</td>\n",
       "    </tr>\n",
       "    <tr>\n",
       "      <th>17</th>\n",
       "      <td>D1</td>\n",
       "      <td>2021_03</td>\n",
       "      <td>300001761</td>\n",
       "      <td>Bion 3 tab №30</td>\n",
       "      <td>100</td>\n",
       "    </tr>\n",
       "  </tbody>\n",
       "</table>\n",
       "</div>"
      ],
      "text/plain": [
       "   Distributor    Month  Product_id_SS                     Product_name_SS  \\\n",
       "58          D1  2021_03      300027136               Allerway 5 mg tab №10   \n",
       "60          D1  2021_03      300027158               Allerway 5 mg tab №30   \n",
       "79          D1  2021_03      300031318  Allerway Express (1x10s)Tab Russia   \n",
       "15          D1  2021_03      300001611                      Bion 3 tab №10   \n",
       "17          D1  2021_03      300001761                      Bion 3 tab №30   \n",
       "\n",
       "    Packs  \n",
       "58    150  \n",
       "60    158  \n",
       "79     66  \n",
       "15     84  \n",
       "17    100  "
      ]
     },
     "execution_count": 24,
     "metadata": {},
     "output_type": "execute_result"
    }
   ],
   "source": [
    "D1 = D1.rename(columns={qty_col: 'Packs'})\n",
    "D1.sort_values('Product_name_SS')[:5]"
   ]
  },
  {
   "cell_type": "markdown",
   "metadata": {},
   "source": [
    "## D2"
   ]
  },
  {
   "cell_type": "code",
   "execution_count": 25,
   "metadata": {
    "scrolled": true
   },
   "outputs": [],
   "source": [
    "# создаём df из всех файлов папки\n",
    "path = r\"C:\\Data\\Илья\\DataScience\\D_report\\02_D\"\n",
    "big_df = files_from_folder_to_df(path)"
   ]
  },
  {
   "cell_type": "code",
   "execution_count": 26,
   "metadata": {},
   "outputs": [],
   "source": [
    "big_df['Month'] = cur_per\n",
    "big_df['Distributor'] = 'D2'"
   ]
  },
  {
   "cell_type": "code",
   "execution_count": 27,
   "metadata": {},
   "outputs": [],
   "source": [
    "# удаляем строки итогов\n",
    "col_name ='СКЮ'\n",
    "big_df_ss = delete_totals(col_name)\n",
    "big_df_ss[col_name] = big_df_ss[col_name].str.lower()"
   ]
  },
  {
   "cell_type": "code",
   "execution_count": 28,
   "metadata": {},
   "outputs": [],
   "source": [
    "# прицепляем Prodmap\n",
    "big_df_ss = pd.merge(big_df_ss, prodmap, how ='left', left_on = col_name, right_on = 'Product_name_origin')"
   ]
  },
  {
   "cell_type": "code",
   "execution_count": 29,
   "metadata": {
    "scrolled": true
   },
   "outputs": [
    {
     "name": "stdout",
     "output_type": "stream",
     "text": [
      "ОК. Все продукты смепплены!\n"
     ]
    }
   ],
   "source": [
    "# проверка несмеппленых продуктов: либо создаём файл, либо получаем сообщение что всё Ок. \n",
    "find_not_mapped(col_name)"
   ]
  },
  {
   "cell_type": "code",
   "execution_count": 30,
   "metadata": {},
   "outputs": [],
   "source": [
    "#Добавляем несмеппленные продукты в Prodmap,  обновляем загрузку Prodmap и её сцепку с bid_df"
   ]
  },
  {
   "cell_type": "code",
   "execution_count": 31,
   "metadata": {},
   "outputs": [],
   "source": [
    "qty_col = \"Оборот в штуках\"\n",
    "pi_df = pivoted(qty_col)"
   ]
  },
  {
   "cell_type": "code",
   "execution_count": 32,
   "metadata": {},
   "outputs": [],
   "source": [
    "# Сохраняем получивщийся результат в Таблицу с именем дистра\n",
    "D2 = pi_df.copy()\n",
    "D2 = D2.rename(columns={qty_col: 'Packs'})"
   ]
  },
  {
   "cell_type": "code",
   "execution_count": 33,
   "metadata": {
    "scrolled": true
   },
   "outputs": [
    {
     "data": {
      "text/html": [
       "<div>\n",
       "<style scoped>\n",
       "    .dataframe tbody tr th:only-of-type {\n",
       "        vertical-align: middle;\n",
       "    }\n",
       "\n",
       "    .dataframe tbody tr th {\n",
       "        vertical-align: top;\n",
       "    }\n",
       "\n",
       "    .dataframe thead th {\n",
       "        text-align: right;\n",
       "    }\n",
       "</style>\n",
       "<table border=\"1\" class=\"dataframe\">\n",
       "  <thead>\n",
       "    <tr style=\"text-align: right;\">\n",
       "      <th></th>\n",
       "      <th>Distributor</th>\n",
       "      <th>Month</th>\n",
       "      <th>Product_id_SS</th>\n",
       "      <th>Product_name_SS</th>\n",
       "      <th>Packs</th>\n",
       "    </tr>\n",
       "  </thead>\n",
       "  <tbody>\n",
       "    <tr>\n",
       "      <th>32</th>\n",
       "      <td>D2</td>\n",
       "      <td>2021_03</td>\n",
       "      <td>300027136</td>\n",
       "      <td>Allerway 5 mg tab №10</td>\n",
       "      <td>66</td>\n",
       "    </tr>\n",
       "    <tr>\n",
       "      <th>34</th>\n",
       "      <td>D2</td>\n",
       "      <td>2021_03</td>\n",
       "      <td>300027158</td>\n",
       "      <td>Allerway 5 mg tab №30</td>\n",
       "      <td>76</td>\n",
       "    </tr>\n",
       "    <tr>\n",
       "      <th>49</th>\n",
       "      <td>D2</td>\n",
       "      <td>2021_03</td>\n",
       "      <td>300031318</td>\n",
       "      <td>Allerway Express (1x10s)Tab Russia</td>\n",
       "      <td>2</td>\n",
       "    </tr>\n",
       "    <tr>\n",
       "      <th>20</th>\n",
       "      <td>D2</td>\n",
       "      <td>2021_03</td>\n",
       "      <td>300014564</td>\n",
       "      <td>Cetrine tab 10mg №30</td>\n",
       "      <td>617</td>\n",
       "    </tr>\n",
       "    <tr>\n",
       "      <th>7</th>\n",
       "      <td>D2</td>\n",
       "      <td>2021_03</td>\n",
       "      <td>300000751</td>\n",
       "      <td>Cetrine tab f/c 10mg №20</td>\n",
       "      <td>1326</td>\n",
       "    </tr>\n",
       "  </tbody>\n",
       "</table>\n",
       "</div>"
      ],
      "text/plain": [
       "   Distributor    Month  Product_id_SS                     Product_name_SS  \\\n",
       "32          D2  2021_03      300027136               Allerway 5 mg tab №10   \n",
       "34          D2  2021_03      300027158               Allerway 5 mg tab №30   \n",
       "49          D2  2021_03      300031318  Allerway Express (1x10s)Tab Russia   \n",
       "20          D2  2021_03      300014564                Cetrine tab 10mg №30   \n",
       "7           D2  2021_03      300000751            Cetrine tab f/c 10mg №20   \n",
       "\n",
       "    Packs  \n",
       "32     66  \n",
       "34     76  \n",
       "49      2  \n",
       "20    617  \n",
       "7    1326  "
      ]
     },
     "execution_count": 33,
     "metadata": {},
     "output_type": "execute_result"
    }
   ],
   "source": [
    "D2.sort_values('Product_name_SS')[:5]"
   ]
  },
  {
   "cell_type": "markdown",
   "metadata": {},
   "source": [
    "##  D3"
   ]
  },
  {
   "cell_type": "code",
   "execution_count": 34,
   "metadata": {},
   "outputs": [],
   "source": [
    "path = r\"C:\\Data\\Илья\\DataScience\\D_report\\03_D\"\n",
    "col_name ='наименование товара'\n",
    "qty_col = \"количество\""
   ]
  },
  {
   "cell_type": "code",
   "execution_count": 35,
   "metadata": {},
   "outputs": [
    {
     "name": "stdout",
     "output_type": "stream",
     "text": [
      "ОК. Все продукты смепплены!\n"
     ]
    }
   ],
   "source": [
    "big_df = files_from_folder_to_df(path)\n",
    "big_df['Month'] = cur_per\n",
    "big_df['Distributor'] = 'D3'\n",
    "big_df_ss = delete_totals(col_name)\n",
    "big_df_ss[col_name] = big_df_ss[col_name].str.lower()\n",
    "big_df_ss = pd.merge(big_df_ss, prodmap, how ='left', left_on = col_name, right_on = 'Product_name_origin')\n",
    "find_not_mapped(col_name)"
   ]
  },
  {
   "cell_type": "code",
   "execution_count": 36,
   "metadata": {},
   "outputs": [],
   "source": [
    "pi_df = pivoted(qty_col)\n",
    "D3 = pi_df.copy()"
   ]
  },
  {
   "cell_type": "code",
   "execution_count": 37,
   "metadata": {},
   "outputs": [
    {
     "data": {
      "text/html": [
       "<div>\n",
       "<style scoped>\n",
       "    .dataframe tbody tr th:only-of-type {\n",
       "        vertical-align: middle;\n",
       "    }\n",
       "\n",
       "    .dataframe tbody tr th {\n",
       "        vertical-align: top;\n",
       "    }\n",
       "\n",
       "    .dataframe thead th {\n",
       "        text-align: right;\n",
       "    }\n",
       "</style>\n",
       "<table border=\"1\" class=\"dataframe\">\n",
       "  <thead>\n",
       "    <tr style=\"text-align: right;\">\n",
       "      <th></th>\n",
       "      <th>Distributor</th>\n",
       "      <th>Month</th>\n",
       "      <th>Product_id_SS</th>\n",
       "      <th>Product_name_SS</th>\n",
       "      <th>Packs</th>\n",
       "    </tr>\n",
       "  </thead>\n",
       "  <tbody>\n",
       "    <tr>\n",
       "      <th>58</th>\n",
       "      <td>D3</td>\n",
       "      <td>2021_03</td>\n",
       "      <td>300027136</td>\n",
       "      <td>Allerway 5 mg tab №10</td>\n",
       "      <td>115</td>\n",
       "    </tr>\n",
       "    <tr>\n",
       "      <th>60</th>\n",
       "      <td>D3</td>\n",
       "      <td>2021_03</td>\n",
       "      <td>300027158</td>\n",
       "      <td>Allerway 5 mg tab №30</td>\n",
       "      <td>83</td>\n",
       "    </tr>\n",
       "    <tr>\n",
       "      <th>79</th>\n",
       "      <td>D3</td>\n",
       "      <td>2021_03</td>\n",
       "      <td>300031318</td>\n",
       "      <td>Allerway Express (1x10s)Tab Russia</td>\n",
       "      <td>70</td>\n",
       "    </tr>\n",
       "    <tr>\n",
       "      <th>15</th>\n",
       "      <td>D3</td>\n",
       "      <td>2021_03</td>\n",
       "      <td>300001611</td>\n",
       "      <td>Bion 3 tab №10</td>\n",
       "      <td>80</td>\n",
       "    </tr>\n",
       "    <tr>\n",
       "      <th>17</th>\n",
       "      <td>D3</td>\n",
       "      <td>2021_03</td>\n",
       "      <td>300001761</td>\n",
       "      <td>Bion 3 tab №30</td>\n",
       "      <td>972</td>\n",
       "    </tr>\n",
       "  </tbody>\n",
       "</table>\n",
       "</div>"
      ],
      "text/plain": [
       "   Distributor    Month  Product_id_SS                     Product_name_SS  \\\n",
       "58          D3  2021_03      300027136               Allerway 5 mg tab №10   \n",
       "60          D3  2021_03      300027158               Allerway 5 mg tab №30   \n",
       "79          D3  2021_03      300031318  Allerway Express (1x10s)Tab Russia   \n",
       "15          D3  2021_03      300001611                      Bion 3 tab №10   \n",
       "17          D3  2021_03      300001761                      Bion 3 tab №30   \n",
       "\n",
       "    Packs  \n",
       "58    115  \n",
       "60     83  \n",
       "79     70  \n",
       "15     80  \n",
       "17    972  "
      ]
     },
     "execution_count": 37,
     "metadata": {},
     "output_type": "execute_result"
    }
   ],
   "source": [
    "D3 = D3.rename(columns={qty_col: 'Packs'})\n",
    "D3.sort_values('Product_name_SS')[:5]"
   ]
  },
  {
   "cell_type": "markdown",
   "metadata": {},
   "source": [
    "## D4"
   ]
  },
  {
   "cell_type": "code",
   "execution_count": 38,
   "metadata": {},
   "outputs": [],
   "source": [
    "path = r\"C:\\Data\\Илья\\DataScience\\D_report\\04_D\"\n",
    "col_name ='Товар'\n",
    "qty_col = \"Продажи, шт.\""
   ]
  },
  {
   "cell_type": "code",
   "execution_count": 39,
   "metadata": {},
   "outputs": [
    {
     "name": "stdout",
     "output_type": "stream",
     "text": [
      "ОК. Все продукты смепплены!\n"
     ]
    }
   ],
   "source": [
    "big_df = files_from_folder_to_df(path)\n",
    "big_df['Month'] = cur_per\n",
    "big_df['Distributor'] = 'D4'\n",
    "big_df_ss = delete_totals(col_name)\n",
    "big_df_ss[col_name] = big_df_ss[col_name].str.lower()\n",
    "big_df_ss = pd.merge(big_df_ss, prodmap, how ='left', left_on = col_name, right_on = 'Product_name_origin')\n",
    "find_not_mapped(col_name)"
   ]
  },
  {
   "cell_type": "code",
   "execution_count": 40,
   "metadata": {},
   "outputs": [],
   "source": [
    "pi_df = pivoted(qty_col)\n",
    "D4 = pi_df.copy()"
   ]
  },
  {
   "cell_type": "code",
   "execution_count": 41,
   "metadata": {},
   "outputs": [
    {
     "data": {
      "text/html": [
       "<div>\n",
       "<style scoped>\n",
       "    .dataframe tbody tr th:only-of-type {\n",
       "        vertical-align: middle;\n",
       "    }\n",
       "\n",
       "    .dataframe tbody tr th {\n",
       "        vertical-align: top;\n",
       "    }\n",
       "\n",
       "    .dataframe thead th {\n",
       "        text-align: right;\n",
       "    }\n",
       "</style>\n",
       "<table border=\"1\" class=\"dataframe\">\n",
       "  <thead>\n",
       "    <tr style=\"text-align: right;\">\n",
       "      <th></th>\n",
       "      <th>Distributor</th>\n",
       "      <th>Month</th>\n",
       "      <th>Product_id_SS</th>\n",
       "      <th>Product_name_SS</th>\n",
       "      <th>Packs</th>\n",
       "    </tr>\n",
       "  </thead>\n",
       "  <tbody>\n",
       "    <tr>\n",
       "      <th>37</th>\n",
       "      <td>D4</td>\n",
       "      <td>2021_03</td>\n",
       "      <td>300027136</td>\n",
       "      <td>Allerway 5 mg tab №10</td>\n",
       "      <td>132</td>\n",
       "    </tr>\n",
       "    <tr>\n",
       "      <th>39</th>\n",
       "      <td>D4</td>\n",
       "      <td>2021_03</td>\n",
       "      <td>300027158</td>\n",
       "      <td>Allerway 5 mg tab №30</td>\n",
       "      <td>39</td>\n",
       "    </tr>\n",
       "    <tr>\n",
       "      <th>55</th>\n",
       "      <td>D4</td>\n",
       "      <td>2021_03</td>\n",
       "      <td>300031318</td>\n",
       "      <td>Allerway Express (1x10s)Tab Russia</td>\n",
       "      <td>42</td>\n",
       "    </tr>\n",
       "    <tr>\n",
       "      <th>11</th>\n",
       "      <td>D4</td>\n",
       "      <td>2021_03</td>\n",
       "      <td>300001611</td>\n",
       "      <td>Bion 3 tab №10</td>\n",
       "      <td>16</td>\n",
       "    </tr>\n",
       "    <tr>\n",
       "      <th>23</th>\n",
       "      <td>D4</td>\n",
       "      <td>2021_03</td>\n",
       "      <td>300014564</td>\n",
       "      <td>Cetrine tab 10mg №30</td>\n",
       "      <td>1137</td>\n",
       "    </tr>\n",
       "  </tbody>\n",
       "</table>\n",
       "</div>"
      ],
      "text/plain": [
       "   Distributor    Month  Product_id_SS                     Product_name_SS  \\\n",
       "37          D4  2021_03      300027136               Allerway 5 mg tab №10   \n",
       "39          D4  2021_03      300027158               Allerway 5 mg tab №30   \n",
       "55          D4  2021_03      300031318  Allerway Express (1x10s)Tab Russia   \n",
       "11          D4  2021_03      300001611                      Bion 3 tab №10   \n",
       "23          D4  2021_03      300014564                Cetrine tab 10mg №30   \n",
       "\n",
       "    Packs  \n",
       "37    132  \n",
       "39     39  \n",
       "55     42  \n",
       "11     16  \n",
       "23   1137  "
      ]
     },
     "execution_count": 41,
     "metadata": {},
     "output_type": "execute_result"
    }
   ],
   "source": [
    "D4 = D4.rename(columns={qty_col: 'Packs'})\n",
    "D4.sort_values('Product_name_SS')[:5]"
   ]
  },
  {
   "cell_type": "markdown",
   "metadata": {},
   "source": [
    "## D5"
   ]
  },
  {
   "cell_type": "code",
   "execution_count": 42,
   "metadata": {},
   "outputs": [],
   "source": [
    "path = r\"C:\\Data\\Илья\\DataScience\\D_report\\05_D\"\n",
    "col_name ='Название'\n",
    "qty_col = \"Упаковок\""
   ]
  },
  {
   "cell_type": "code",
   "execution_count": 43,
   "metadata": {},
   "outputs": [
    {
     "name": "stdout",
     "output_type": "stream",
     "text": [
      "ОК. Все продукты смепплены!\n"
     ]
    }
   ],
   "source": [
    "big_df = files_from_folder_to_df(path)\n",
    "big_df['Month'] = cur_per\n",
    "big_df['Distributor'] = 'D5'\n",
    "big_df_ss = delete_totals(col_name)\n",
    "big_df_ss[col_name] = big_df_ss[col_name].str.lower()\n",
    "big_df_ss = pd.merge(big_df_ss, prodmap, how ='left', left_on = col_name, right_on = 'Product_name_origin')\n",
    "find_not_mapped(col_name)"
   ]
  },
  {
   "cell_type": "code",
   "execution_count": 44,
   "metadata": {},
   "outputs": [],
   "source": [
    "pi_df = pivoted(qty_col)\n",
    "D5 = pi_df.copy()"
   ]
  },
  {
   "cell_type": "code",
   "execution_count": 45,
   "metadata": {},
   "outputs": [
    {
     "data": {
      "text/html": [
       "<div>\n",
       "<style scoped>\n",
       "    .dataframe tbody tr th:only-of-type {\n",
       "        vertical-align: middle;\n",
       "    }\n",
       "\n",
       "    .dataframe tbody tr th {\n",
       "        vertical-align: top;\n",
       "    }\n",
       "\n",
       "    .dataframe thead th {\n",
       "        text-align: right;\n",
       "    }\n",
       "</style>\n",
       "<table border=\"1\" class=\"dataframe\">\n",
       "  <thead>\n",
       "    <tr style=\"text-align: right;\">\n",
       "      <th></th>\n",
       "      <th>Distributor</th>\n",
       "      <th>Month</th>\n",
       "      <th>Product_id_SS</th>\n",
       "      <th>Product_name_SS</th>\n",
       "      <th>Packs</th>\n",
       "    </tr>\n",
       "  </thead>\n",
       "  <tbody>\n",
       "    <tr>\n",
       "      <th>7</th>\n",
       "      <td>D5</td>\n",
       "      <td>2021_03</td>\n",
       "      <td>300027136</td>\n",
       "      <td>Allerway 5 mg tab №10</td>\n",
       "      <td>2</td>\n",
       "    </tr>\n",
       "    <tr>\n",
       "      <th>8</th>\n",
       "      <td>D5</td>\n",
       "      <td>2021_03</td>\n",
       "      <td>300027158</td>\n",
       "      <td>Allerway 5 mg tab №30</td>\n",
       "      <td>3</td>\n",
       "    </tr>\n",
       "    <tr>\n",
       "      <th>9</th>\n",
       "      <td>D5</td>\n",
       "      <td>2021_03</td>\n",
       "      <td>300029853</td>\n",
       "      <td>Dexpan plus baby cream 50g</td>\n",
       "      <td>4</td>\n",
       "    </tr>\n",
       "    <tr>\n",
       "      <th>4</th>\n",
       "      <td>D5</td>\n",
       "      <td>2021_03</td>\n",
       "      <td>300005873</td>\n",
       "      <td>Ketorol gel 2% 30g</td>\n",
       "      <td>8</td>\n",
       "    </tr>\n",
       "    <tr>\n",
       "      <th>6</th>\n",
       "      <td>D5</td>\n",
       "      <td>2021_03</td>\n",
       "      <td>300023895</td>\n",
       "      <td>Ketorol gel 2% 50g</td>\n",
       "      <td>9</td>\n",
       "    </tr>\n",
       "  </tbody>\n",
       "</table>\n",
       "</div>"
      ],
      "text/plain": [
       "  Distributor    Month  Product_id_SS             Product_name_SS  Packs\n",
       "7          D5  2021_03      300027136       Allerway 5 mg tab №10      2\n",
       "8          D5  2021_03      300027158       Allerway 5 mg tab №30      3\n",
       "9          D5  2021_03      300029853  Dexpan plus baby cream 50g      4\n",
       "4          D5  2021_03      300005873          Ketorol gel 2% 30g      8\n",
       "6          D5  2021_03      300023895          Ketorol gel 2% 50g      9"
      ]
     },
     "execution_count": 45,
     "metadata": {},
     "output_type": "execute_result"
    }
   ],
   "source": [
    "D5 = D5.rename(columns={qty_col: 'Packs'})\n",
    "D5.sort_values('Product_name_SS')[:5]"
   ]
  },
  {
   "cell_type": "markdown",
   "metadata": {},
   "source": [
    "## D6"
   ]
  },
  {
   "cell_type": "code",
   "execution_count": 46,
   "metadata": {},
   "outputs": [],
   "source": [
    "path = r\"C:\\Data\\Илья\\DataScience\\D_report\\06_D\"\n",
    "col_name ='Номенклатура'\n",
    "qty_col = \"Март 2021 г.\""
   ]
  },
  {
   "cell_type": "code",
   "execution_count": 47,
   "metadata": {},
   "outputs": [
    {
     "name": "stdout",
     "output_type": "stream",
     "text": [
      "ОК. Все продукты смепплены!\n"
     ]
    }
   ],
   "source": [
    "big_df = files_from_folder_to_df(path)\n",
    "big_df['Month'] = cur_per\n",
    "big_df['Distributor'] = 'D6'\n",
    "big_df_ss = delete_totals(col_name)\n",
    "big_df_ss[col_name] = big_df_ss[col_name].str.lower()\n",
    "big_df_ss = pd.merge(big_df_ss, prodmap, how ='left', left_on = col_name, right_on = 'Product_name_origin')\n",
    "find_not_mapped(col_name)"
   ]
  },
  {
   "cell_type": "code",
   "execution_count": 48,
   "metadata": {},
   "outputs": [],
   "source": [
    "pi_df = pivoted(qty_col)\n",
    "D6 = pi_df.copy()"
   ]
  },
  {
   "cell_type": "code",
   "execution_count": 49,
   "metadata": {},
   "outputs": [
    {
     "data": {
      "text/html": [
       "<div>\n",
       "<style scoped>\n",
       "    .dataframe tbody tr th:only-of-type {\n",
       "        vertical-align: middle;\n",
       "    }\n",
       "\n",
       "    .dataframe tbody tr th {\n",
       "        vertical-align: top;\n",
       "    }\n",
       "\n",
       "    .dataframe thead th {\n",
       "        text-align: right;\n",
       "    }\n",
       "</style>\n",
       "<table border=\"1\" class=\"dataframe\">\n",
       "  <thead>\n",
       "    <tr style=\"text-align: right;\">\n",
       "      <th></th>\n",
       "      <th>Distributor</th>\n",
       "      <th>Month</th>\n",
       "      <th>Product_id_SS</th>\n",
       "      <th>Product_name_SS</th>\n",
       "      <th>Packs</th>\n",
       "    </tr>\n",
       "  </thead>\n",
       "  <tbody>\n",
       "    <tr>\n",
       "      <th>28</th>\n",
       "      <td>D6</td>\n",
       "      <td>2021_03</td>\n",
       "      <td>300027136</td>\n",
       "      <td>Allerway 5 mg tab №10</td>\n",
       "      <td>3</td>\n",
       "    </tr>\n",
       "    <tr>\n",
       "      <th>30</th>\n",
       "      <td>D6</td>\n",
       "      <td>2021_03</td>\n",
       "      <td>300027158</td>\n",
       "      <td>Allerway 5 mg tab №30</td>\n",
       "      <td>251</td>\n",
       "    </tr>\n",
       "    <tr>\n",
       "      <th>9</th>\n",
       "      <td>D6</td>\n",
       "      <td>2021_03</td>\n",
       "      <td>300001761</td>\n",
       "      <td>Bion 3 tab №30</td>\n",
       "      <td>111</td>\n",
       "    </tr>\n",
       "    <tr>\n",
       "      <th>18</th>\n",
       "      <td>D6</td>\n",
       "      <td>2021_03</td>\n",
       "      <td>300014564</td>\n",
       "      <td>Cetrine tab 10mg №30</td>\n",
       "      <td>1042</td>\n",
       "    </tr>\n",
       "    <tr>\n",
       "      <th>5</th>\n",
       "      <td>D6</td>\n",
       "      <td>2021_03</td>\n",
       "      <td>300000751</td>\n",
       "      <td>Cetrine tab f/c 10mg №20</td>\n",
       "      <td>1123</td>\n",
       "    </tr>\n",
       "  </tbody>\n",
       "</table>\n",
       "</div>"
      ],
      "text/plain": [
       "   Distributor    Month  Product_id_SS           Product_name_SS  Packs\n",
       "28          D6  2021_03      300027136     Allerway 5 mg tab №10      3\n",
       "30          D6  2021_03      300027158     Allerway 5 mg tab №30    251\n",
       "9           D6  2021_03      300001761            Bion 3 tab №30    111\n",
       "18          D6  2021_03      300014564      Cetrine tab 10mg №30   1042\n",
       "5           D6  2021_03      300000751  Cetrine tab f/c 10mg №20   1123"
      ]
     },
     "execution_count": 49,
     "metadata": {},
     "output_type": "execute_result"
    }
   ],
   "source": [
    "D6 = D6.rename(columns={qty_col: 'Packs'})\n",
    "D6.sort_values('Product_name_SS')[:5]"
   ]
  },
  {
   "cell_type": "markdown",
   "metadata": {},
   "source": [
    "## D7"
   ]
  },
  {
   "cell_type": "code",
   "execution_count": 50,
   "metadata": {},
   "outputs": [],
   "source": [
    "path = r\"C:\\Data\\Илья\\DataScience\\D_report\\07_D\"\n",
    "col_name ='Товар'\n",
    "qty_col = \"Количество\""
   ]
  },
  {
   "cell_type": "code",
   "execution_count": 51,
   "metadata": {},
   "outputs": [
    {
     "name": "stdout",
     "output_type": "stream",
     "text": [
      "ОК. Все продукты смепплены!\n"
     ]
    }
   ],
   "source": [
    "big_df = files_from_folder_to_df(path)\n",
    "big_df['Month'] = cur_per\n",
    "big_df['Distributor'] = 'D7'\n",
    "big_df_ss = delete_totals(col_name)\n",
    "big_df_ss[col_name] = big_df_ss[col_name].str.lower()\n",
    "big_df_ss = pd.merge(big_df_ss, prodmap, how ='left', left_on = col_name, right_on = 'Product_name_origin')\n",
    "find_not_mapped(col_name)"
   ]
  },
  {
   "cell_type": "code",
   "execution_count": 52,
   "metadata": {},
   "outputs": [],
   "source": [
    "pi_df = pivoted(qty_col)\n",
    "D7 = pi_df.copy()"
   ]
  },
  {
   "cell_type": "code",
   "execution_count": 53,
   "metadata": {},
   "outputs": [
    {
     "data": {
      "text/html": [
       "<div>\n",
       "<style scoped>\n",
       "    .dataframe tbody tr th:only-of-type {\n",
       "        vertical-align: middle;\n",
       "    }\n",
       "\n",
       "    .dataframe tbody tr th {\n",
       "        vertical-align: top;\n",
       "    }\n",
       "\n",
       "    .dataframe thead th {\n",
       "        text-align: right;\n",
       "    }\n",
       "</style>\n",
       "<table border=\"1\" class=\"dataframe\">\n",
       "  <thead>\n",
       "    <tr style=\"text-align: right;\">\n",
       "      <th></th>\n",
       "      <th>Distributor</th>\n",
       "      <th>Month</th>\n",
       "      <th>Product_id_SS</th>\n",
       "      <th>Product_name_SS</th>\n",
       "      <th>Packs</th>\n",
       "    </tr>\n",
       "  </thead>\n",
       "  <tbody>\n",
       "    <tr>\n",
       "      <th>58</th>\n",
       "      <td>D7</td>\n",
       "      <td>2021_03</td>\n",
       "      <td>300027136</td>\n",
       "      <td>Allerway 5 mg tab №10</td>\n",
       "      <td>96</td>\n",
       "    </tr>\n",
       "    <tr>\n",
       "      <th>60</th>\n",
       "      <td>D7</td>\n",
       "      <td>2021_03</td>\n",
       "      <td>300027158</td>\n",
       "      <td>Allerway 5 mg tab №30</td>\n",
       "      <td>94</td>\n",
       "    </tr>\n",
       "    <tr>\n",
       "      <th>79</th>\n",
       "      <td>D7</td>\n",
       "      <td>2021_03</td>\n",
       "      <td>300031318</td>\n",
       "      <td>Allerway Express (1x10s)Tab Russia</td>\n",
       "      <td>40</td>\n",
       "    </tr>\n",
       "    <tr>\n",
       "      <th>15</th>\n",
       "      <td>D7</td>\n",
       "      <td>2021_03</td>\n",
       "      <td>300001611</td>\n",
       "      <td>Bion 3 tab №10</td>\n",
       "      <td>75</td>\n",
       "    </tr>\n",
       "    <tr>\n",
       "      <th>17</th>\n",
       "      <td>D7</td>\n",
       "      <td>2021_03</td>\n",
       "      <td>300001761</td>\n",
       "      <td>Bion 3 tab №30</td>\n",
       "      <td>98</td>\n",
       "    </tr>\n",
       "  </tbody>\n",
       "</table>\n",
       "</div>"
      ],
      "text/plain": [
       "   Distributor    Month  Product_id_SS                     Product_name_SS  \\\n",
       "58          D7  2021_03      300027136               Allerway 5 mg tab №10   \n",
       "60          D7  2021_03      300027158               Allerway 5 mg tab №30   \n",
       "79          D7  2021_03      300031318  Allerway Express (1x10s)Tab Russia   \n",
       "15          D7  2021_03      300001611                      Bion 3 tab №10   \n",
       "17          D7  2021_03      300001761                      Bion 3 tab №30   \n",
       "\n",
       "    Packs  \n",
       "58     96  \n",
       "60     94  \n",
       "79     40  \n",
       "15     75  \n",
       "17     98  "
      ]
     },
     "execution_count": 53,
     "metadata": {},
     "output_type": "execute_result"
    }
   ],
   "source": [
    "D7 = D7.rename(columns={qty_col: 'Packs'})\n",
    "D7.sort_values('Product_name_SS')[:5]"
   ]
  },
  {
   "cell_type": "markdown",
   "metadata": {},
   "source": [
    "## D8"
   ]
  },
  {
   "cell_type": "code",
   "execution_count": 54,
   "metadata": {},
   "outputs": [],
   "source": [
    "path = r\"C:\\Data\\Илья\\DataScience\\D_report\\08_D\"\n",
    "col_name ='Product Name'\n",
    "qty_col = \"Количество\""
   ]
  },
  {
   "cell_type": "code",
   "execution_count": 55,
   "metadata": {},
   "outputs": [
    {
     "name": "stdout",
     "output_type": "stream",
     "text": [
      "ОК. Все продукты смепплены!\n"
     ]
    }
   ],
   "source": [
    "big_df = files_from_folder_to_df(path)\n",
    "big_df['Month'] = cur_per\n",
    "big_df['Distributor'] = 'D8'\n",
    "big_df_ss = delete_totals(col_name)\n",
    "big_df_ss[col_name] = big_df_ss[col_name].str.lower()\n",
    "big_df_ss = pd.merge(big_df_ss, prodmap, how ='left', left_on = col_name, right_on = 'Product_name_origin')\n",
    "find_not_mapped(col_name)"
   ]
  },
  {
   "cell_type": "code",
   "execution_count": 56,
   "metadata": {},
   "outputs": [],
   "source": [
    "pi_df = pivoted(qty_col)\n",
    "D8 = pi_df.copy()"
   ]
  },
  {
   "cell_type": "code",
   "execution_count": 57,
   "metadata": {},
   "outputs": [
    {
     "data": {
      "text/html": [
       "<div>\n",
       "<style scoped>\n",
       "    .dataframe tbody tr th:only-of-type {\n",
       "        vertical-align: middle;\n",
       "    }\n",
       "\n",
       "    .dataframe tbody tr th {\n",
       "        vertical-align: top;\n",
       "    }\n",
       "\n",
       "    .dataframe thead th {\n",
       "        text-align: right;\n",
       "    }\n",
       "</style>\n",
       "<table border=\"1\" class=\"dataframe\">\n",
       "  <thead>\n",
       "    <tr style=\"text-align: right;\">\n",
       "      <th></th>\n",
       "      <th>Distributor</th>\n",
       "      <th>Month</th>\n",
       "      <th>Product_id_SS</th>\n",
       "      <th>Product_name_SS</th>\n",
       "      <th>Packs</th>\n",
       "    </tr>\n",
       "  </thead>\n",
       "  <tbody>\n",
       "    <tr>\n",
       "      <th>37</th>\n",
       "      <td>D8</td>\n",
       "      <td>2021_03</td>\n",
       "      <td>300027136</td>\n",
       "      <td>Allerway 5 mg tab №10</td>\n",
       "      <td>913</td>\n",
       "    </tr>\n",
       "    <tr>\n",
       "      <th>39</th>\n",
       "      <td>D8</td>\n",
       "      <td>2021_03</td>\n",
       "      <td>300027158</td>\n",
       "      <td>Allerway 5 mg tab №30</td>\n",
       "      <td>139</td>\n",
       "    </tr>\n",
       "    <tr>\n",
       "      <th>56</th>\n",
       "      <td>D8</td>\n",
       "      <td>2021_03</td>\n",
       "      <td>300031318</td>\n",
       "      <td>Allerway Express (1x10s)Tab Russia</td>\n",
       "      <td>508</td>\n",
       "    </tr>\n",
       "    <tr>\n",
       "      <th>11</th>\n",
       "      <td>D8</td>\n",
       "      <td>2021_03</td>\n",
       "      <td>300001761</td>\n",
       "      <td>Bion 3 tab №30</td>\n",
       "      <td>356</td>\n",
       "    </tr>\n",
       "    <tr>\n",
       "      <th>23</th>\n",
       "      <td>D8</td>\n",
       "      <td>2021_03</td>\n",
       "      <td>300014564</td>\n",
       "      <td>Cetrine tab 10mg №30</td>\n",
       "      <td>893</td>\n",
       "    </tr>\n",
       "  </tbody>\n",
       "</table>\n",
       "</div>"
      ],
      "text/plain": [
       "   Distributor    Month  Product_id_SS                     Product_name_SS  \\\n",
       "37          D8  2021_03      300027136               Allerway 5 mg tab №10   \n",
       "39          D8  2021_03      300027158               Allerway 5 mg tab №30   \n",
       "56          D8  2021_03      300031318  Allerway Express (1x10s)Tab Russia   \n",
       "11          D8  2021_03      300001761                      Bion 3 tab №30   \n",
       "23          D8  2021_03      300014564                Cetrine tab 10mg №30   \n",
       "\n",
       "    Packs  \n",
       "37    913  \n",
       "39    139  \n",
       "56    508  \n",
       "11    356  \n",
       "23    893  "
      ]
     },
     "execution_count": 57,
     "metadata": {},
     "output_type": "execute_result"
    }
   ],
   "source": [
    "D8 = D8.rename(columns={qty_col: 'Packs'})\n",
    "D8.sort_values('Product_name_SS')[:5]"
   ]
  },
  {
   "cell_type": "markdown",
   "metadata": {},
   "source": [
    "## D9"
   ]
  },
  {
   "cell_type": "code",
   "execution_count": 58,
   "metadata": {},
   "outputs": [],
   "source": [
    "path = r\"C:\\Data\\Илья\\DataScience\\D_report\\09_D\"\n",
    "col_name ='Наименование'\n",
    "qty_col = \"Кол-во\""
   ]
  },
  {
   "cell_type": "code",
   "execution_count": 59,
   "metadata": {},
   "outputs": [
    {
     "name": "stdout",
     "output_type": "stream",
     "text": [
      "ОК. Все продукты смепплены!\n"
     ]
    }
   ],
   "source": [
    "big_df = files_from_folder_to_df(path)\n",
    "big_df['Month'] = cur_per\n",
    "big_df['Distributor'] = 'D9'\n",
    "big_df_ss = delete_totals(col_name)\n",
    "big_df_ss[col_name] = big_df_ss[col_name].str.lower()\n",
    "big_df_ss = pd.merge(big_df_ss, prodmap, how ='left', left_on = col_name, right_on = 'Product_name_origin')\n",
    "find_not_mapped(col_name)"
   ]
  },
  {
   "cell_type": "code",
   "execution_count": 60,
   "metadata": {},
   "outputs": [],
   "source": [
    "pi_df = pivoted(qty_col)\n",
    "D9 = pi_df.copy()"
   ]
  },
  {
   "cell_type": "code",
   "execution_count": 61,
   "metadata": {},
   "outputs": [
    {
     "data": {
      "text/html": [
       "<div>\n",
       "<style scoped>\n",
       "    .dataframe tbody tr th:only-of-type {\n",
       "        vertical-align: middle;\n",
       "    }\n",
       "\n",
       "    .dataframe tbody tr th {\n",
       "        vertical-align: top;\n",
       "    }\n",
       "\n",
       "    .dataframe thead th {\n",
       "        text-align: right;\n",
       "    }\n",
       "</style>\n",
       "<table border=\"1\" class=\"dataframe\">\n",
       "  <thead>\n",
       "    <tr style=\"text-align: right;\">\n",
       "      <th></th>\n",
       "      <th>Distributor</th>\n",
       "      <th>Month</th>\n",
       "      <th>Product_id_SS</th>\n",
       "      <th>Product_name_SS</th>\n",
       "      <th>Packs</th>\n",
       "    </tr>\n",
       "  </thead>\n",
       "  <tbody>\n",
       "    <tr>\n",
       "      <th>17</th>\n",
       "      <td>D9</td>\n",
       "      <td>2021_03</td>\n",
       "      <td>300027136</td>\n",
       "      <td>Allerway 5 mg tab №10</td>\n",
       "      <td>120</td>\n",
       "    </tr>\n",
       "    <tr>\n",
       "      <th>19</th>\n",
       "      <td>D9</td>\n",
       "      <td>2021_03</td>\n",
       "      <td>300027158</td>\n",
       "      <td>Allerway 5 mg tab №30</td>\n",
       "      <td>6</td>\n",
       "    </tr>\n",
       "    <tr>\n",
       "      <th>27</th>\n",
       "      <td>D9</td>\n",
       "      <td>2021_03</td>\n",
       "      <td>300031318</td>\n",
       "      <td>Allerway Express (1x10s)Tab Russia</td>\n",
       "      <td>16</td>\n",
       "    </tr>\n",
       "    <tr>\n",
       "      <th>5</th>\n",
       "      <td>D9</td>\n",
       "      <td>2021_03</td>\n",
       "      <td>300001611</td>\n",
       "      <td>Bion 3 tab №10</td>\n",
       "      <td>4</td>\n",
       "    </tr>\n",
       "    <tr>\n",
       "      <th>6</th>\n",
       "      <td>D9</td>\n",
       "      <td>2021_03</td>\n",
       "      <td>300001761</td>\n",
       "      <td>Bion 3 tab №30</td>\n",
       "      <td>217</td>\n",
       "    </tr>\n",
       "  </tbody>\n",
       "</table>\n",
       "</div>"
      ],
      "text/plain": [
       "   Distributor    Month  Product_id_SS                     Product_name_SS  \\\n",
       "17          D9  2021_03      300027136               Allerway 5 mg tab №10   \n",
       "19          D9  2021_03      300027158               Allerway 5 mg tab №30   \n",
       "27          D9  2021_03      300031318  Allerway Express (1x10s)Tab Russia   \n",
       "5           D9  2021_03      300001611                      Bion 3 tab №10   \n",
       "6           D9  2021_03      300001761                      Bion 3 tab №30   \n",
       "\n",
       "    Packs  \n",
       "17    120  \n",
       "19      6  \n",
       "27     16  \n",
       "5       4  \n",
       "6     217  "
      ]
     },
     "execution_count": 61,
     "metadata": {},
     "output_type": "execute_result"
    }
   ],
   "source": [
    "D9 = D9.rename(columns={qty_col: 'Packs'})\n",
    "D9.sort_values('Product_name_SS')[:5]"
   ]
  },
  {
   "cell_type": "markdown",
   "metadata": {},
   "source": [
    "## D10"
   ]
  },
  {
   "cell_type": "code",
   "execution_count": 62,
   "metadata": {},
   "outputs": [],
   "source": [
    "path = r\"C:\\Data\\Илья\\DataScience\\D_report\\10_D\"\n",
    "col_name ='ТН'\n",
    "qty_col = \"кол-во отгружено\""
   ]
  },
  {
   "cell_type": "code",
   "execution_count": 63,
   "metadata": {},
   "outputs": [
    {
     "name": "stdout",
     "output_type": "stream",
     "text": [
      "ОК. Все продукты смепплены!\n"
     ]
    }
   ],
   "source": [
    "big_df = files_from_folder_to_df(path)\n",
    "big_df['Month'] = cur_per\n",
    "big_df['Distributor'] = 'D10'\n",
    "big_df_ss = delete_totals(col_name)\n",
    "big_df_ss[col_name] = big_df_ss[col_name].str.lower()\n",
    "big_df_ss = pd.merge(big_df_ss, prodmap, how ='left', left_on = col_name, right_on = 'Product_name_origin')\n",
    "find_not_mapped(col_name)"
   ]
  },
  {
   "cell_type": "code",
   "execution_count": 64,
   "metadata": {},
   "outputs": [],
   "source": [
    "pi_df = pivoted(qty_col)\n",
    "D10 = pi_df.copy()"
   ]
  },
  {
   "cell_type": "code",
   "execution_count": 65,
   "metadata": {},
   "outputs": [
    {
     "data": {
      "text/html": [
       "<div>\n",
       "<style scoped>\n",
       "    .dataframe tbody tr th:only-of-type {\n",
       "        vertical-align: middle;\n",
       "    }\n",
       "\n",
       "    .dataframe tbody tr th {\n",
       "        vertical-align: top;\n",
       "    }\n",
       "\n",
       "    .dataframe thead th {\n",
       "        text-align: right;\n",
       "    }\n",
       "</style>\n",
       "<table border=\"1\" class=\"dataframe\">\n",
       "  <thead>\n",
       "    <tr style=\"text-align: right;\">\n",
       "      <th></th>\n",
       "      <th>Distributor</th>\n",
       "      <th>Month</th>\n",
       "      <th>Product_id_SS</th>\n",
       "      <th>Product_name_SS</th>\n",
       "      <th>Packs</th>\n",
       "    </tr>\n",
       "  </thead>\n",
       "  <tbody>\n",
       "    <tr>\n",
       "      <th>1</th>\n",
       "      <td>D10</td>\n",
       "      <td>2021_03</td>\n",
       "      <td>300001157</td>\n",
       "      <td>Ciprolet inf 2mg/ml 100ml №1</td>\n",
       "      <td>1460</td>\n",
       "    </tr>\n",
       "    <tr>\n",
       "      <th>9</th>\n",
       "      <td>D10</td>\n",
       "      <td>2021_03</td>\n",
       "      <td>300030215</td>\n",
       "      <td>Enam tab 10mg №20</td>\n",
       "      <td>1050</td>\n",
       "    </tr>\n",
       "    <tr>\n",
       "      <th>10</th>\n",
       "      <td>D10</td>\n",
       "      <td>2021_03</td>\n",
       "      <td>300030216</td>\n",
       "      <td>Enam tab 2,5mg №20</td>\n",
       "      <td>1151</td>\n",
       "    </tr>\n",
       "    <tr>\n",
       "      <th>11</th>\n",
       "      <td>D10</td>\n",
       "      <td>2021_03</td>\n",
       "      <td>300030235</td>\n",
       "      <td>Enam tab 5mg №20</td>\n",
       "      <td>3015</td>\n",
       "    </tr>\n",
       "    <tr>\n",
       "      <th>8</th>\n",
       "      <td>D10</td>\n",
       "      <td>2021_03</td>\n",
       "      <td>300020052</td>\n",
       "      <td>Ibuclin tab f/c №10</td>\n",
       "      <td>69</td>\n",
       "    </tr>\n",
       "  </tbody>\n",
       "</table>\n",
       "</div>"
      ],
      "text/plain": [
       "   Distributor    Month  Product_id_SS               Product_name_SS  Packs\n",
       "1          D10  2021_03      300001157  Ciprolet inf 2mg/ml 100ml №1   1460\n",
       "9          D10  2021_03      300030215             Enam tab 10mg №20   1050\n",
       "10         D10  2021_03      300030216            Enam tab 2,5mg №20   1151\n",
       "11         D10  2021_03      300030235              Enam tab 5mg №20   3015\n",
       "8          D10  2021_03      300020052           Ibuclin tab f/c №10     69"
      ]
     },
     "execution_count": 65,
     "metadata": {},
     "output_type": "execute_result"
    }
   ],
   "source": [
    "D10 = D10.rename(columns={qty_col: 'Packs'})\n",
    "D10.sort_values('Product_name_SS')[:5]"
   ]
  },
  {
   "cell_type": "markdown",
   "metadata": {},
   "source": [
    "## D11"
   ]
  },
  {
   "cell_type": "code",
   "execution_count": 66,
   "metadata": {},
   "outputs": [],
   "source": [
    "path = r\"C:\\Data\\Илья\\DataScience\\D_report\\11_D\"\n",
    "col_name ='Розничная точка'\n",
    "qty_col = \"Итог\""
   ]
  },
  {
   "cell_type": "code",
   "execution_count": 67,
   "metadata": {},
   "outputs": [
    {
     "name": "stdout",
     "output_type": "stream",
     "text": [
      "ОК. Все продукты смепплены!\n"
     ]
    }
   ],
   "source": [
    "big_df = files_from_folder_to_df(path)\n",
    "big_df['Month'] = cur_per\n",
    "big_df['Distributor'] = 'D11'\n",
    "big_df_ss = delete_totals(col_name)\n",
    "big_df_ss[col_name] = big_df_ss[col_name].str.lower()\n",
    "big_df_ss = pd.merge(big_df_ss, prodmap, how ='left', left_on = col_name, right_on = 'Product_name_origin')\n",
    "find_not_mapped(col_name)"
   ]
  },
  {
   "cell_type": "code",
   "execution_count": 68,
   "metadata": {},
   "outputs": [],
   "source": [
    "pi_df = pivoted(qty_col)\n",
    "D11 = pi_df.copy()"
   ]
  },
  {
   "cell_type": "code",
   "execution_count": 69,
   "metadata": {},
   "outputs": [
    {
     "data": {
      "text/html": [
       "<div>\n",
       "<style scoped>\n",
       "    .dataframe tbody tr th:only-of-type {\n",
       "        vertical-align: middle;\n",
       "    }\n",
       "\n",
       "    .dataframe tbody tr th {\n",
       "        vertical-align: top;\n",
       "    }\n",
       "\n",
       "    .dataframe thead th {\n",
       "        text-align: right;\n",
       "    }\n",
       "</style>\n",
       "<table border=\"1\" class=\"dataframe\">\n",
       "  <thead>\n",
       "    <tr style=\"text-align: right;\">\n",
       "      <th></th>\n",
       "      <th>Distributor</th>\n",
       "      <th>Month</th>\n",
       "      <th>Product_id_SS</th>\n",
       "      <th>Product_name_SS</th>\n",
       "      <th>Packs</th>\n",
       "    </tr>\n",
       "  </thead>\n",
       "  <tbody>\n",
       "    <tr>\n",
       "      <th>36</th>\n",
       "      <td>D11</td>\n",
       "      <td>2021_03</td>\n",
       "      <td>300027136</td>\n",
       "      <td>Allerway 5 mg tab №10</td>\n",
       "      <td>887</td>\n",
       "    </tr>\n",
       "    <tr>\n",
       "      <th>38</th>\n",
       "      <td>D11</td>\n",
       "      <td>2021_03</td>\n",
       "      <td>300027158</td>\n",
       "      <td>Allerway 5 mg tab №30</td>\n",
       "      <td>276</td>\n",
       "    </tr>\n",
       "    <tr>\n",
       "      <th>12</th>\n",
       "      <td>D11</td>\n",
       "      <td>2021_03</td>\n",
       "      <td>300001761</td>\n",
       "      <td>Bion 3 tab №30</td>\n",
       "      <td>972</td>\n",
       "    </tr>\n",
       "    <tr>\n",
       "      <th>24</th>\n",
       "      <td>D11</td>\n",
       "      <td>2021_03</td>\n",
       "      <td>300014564</td>\n",
       "      <td>Cetrine tab 10mg №30</td>\n",
       "      <td>363</td>\n",
       "    </tr>\n",
       "    <tr>\n",
       "      <th>7</th>\n",
       "      <td>D11</td>\n",
       "      <td>2021_03</td>\n",
       "      <td>300000751</td>\n",
       "      <td>Cetrine tab f/c 10mg №20</td>\n",
       "      <td>912</td>\n",
       "    </tr>\n",
       "  </tbody>\n",
       "</table>\n",
       "</div>"
      ],
      "text/plain": [
       "   Distributor    Month  Product_id_SS           Product_name_SS  Packs\n",
       "36         D11  2021_03      300027136     Allerway 5 mg tab №10    887\n",
       "38         D11  2021_03      300027158     Allerway 5 mg tab №30    276\n",
       "12         D11  2021_03      300001761            Bion 3 tab №30    972\n",
       "24         D11  2021_03      300014564      Cetrine tab 10mg №30    363\n",
       "7          D11  2021_03      300000751  Cetrine tab f/c 10mg №20    912"
      ]
     },
     "execution_count": 69,
     "metadata": {},
     "output_type": "execute_result"
    }
   ],
   "source": [
    "D11 = D11.rename(columns={qty_col: 'Packs'})\n",
    "D11.sort_values('Product_name_SS')[:5]"
   ]
  },
  {
   "cell_type": "markdown",
   "metadata": {},
   "source": [
    "# 6) Сцепляем в единый \"monthly_df\""
   ]
  },
  {
   "cell_type": "code",
   "execution_count": 70,
   "metadata": {},
   "outputs": [],
   "source": [
    "all = ([D1, D2, D3, D4, D5, D6, D7, D8, D9, D10, D11])\n",
    "monthly_df = pd.concat(all, ignore_index=True)"
   ]
  },
  {
   "cell_type": "code",
   "execution_count": 71,
   "metadata": {},
   "outputs": [],
   "source": [
    "monthly_df = monthly_df.rename(columns={'Packs': 'S2103P'})"
   ]
  },
  {
   "cell_type": "code",
   "execution_count": 72,
   "metadata": {},
   "outputs": [
    {
     "data": {
      "text/html": [
       "<div>\n",
       "<style scoped>\n",
       "    .dataframe tbody tr th:only-of-type {\n",
       "        vertical-align: middle;\n",
       "    }\n",
       "\n",
       "    .dataframe tbody tr th {\n",
       "        vertical-align: top;\n",
       "    }\n",
       "\n",
       "    .dataframe thead th {\n",
       "        text-align: right;\n",
       "    }\n",
       "</style>\n",
       "<table border=\"1\" class=\"dataframe\">\n",
       "  <thead>\n",
       "    <tr style=\"text-align: right;\">\n",
       "      <th></th>\n",
       "      <th>Distributor</th>\n",
       "      <th>Month</th>\n",
       "      <th>Product_id_SS</th>\n",
       "      <th>Product_name_SS</th>\n",
       "      <th>S2103P</th>\n",
       "    </tr>\n",
       "  </thead>\n",
       "  <tbody>\n",
       "    <tr>\n",
       "      <th>222</th>\n",
       "      <td>D3</td>\n",
       "      <td>2021_03</td>\n",
       "      <td>300032412</td>\n",
       "      <td>Ketorol  inj 30mg/ml 1 ml №10</td>\n",
       "      <td>152</td>\n",
       "    </tr>\n",
       "    <tr>\n",
       "      <th>294</th>\n",
       "      <td>D5</td>\n",
       "      <td>2021_03</td>\n",
       "      <td>300005873</td>\n",
       "      <td>Ketorol gel 2% 30g</td>\n",
       "      <td>8</td>\n",
       "    </tr>\n",
       "    <tr>\n",
       "      <th>579</th>\n",
       "      <td>D11</td>\n",
       "      <td>2021_03</td>\n",
       "      <td>300028322</td>\n",
       "      <td>Nasivin nasal drops 0,025%</td>\n",
       "      <td>974</td>\n",
       "    </tr>\n",
       "    <tr>\n",
       "      <th>162</th>\n",
       "      <td>D3</td>\n",
       "      <td>2021_03</td>\n",
       "      <td>300004174</td>\n",
       "      <td>Mitotax inf 30 mg/5 ml №1</td>\n",
       "      <td>13</td>\n",
       "    </tr>\n",
       "    <tr>\n",
       "      <th>578</th>\n",
       "      <td>D11</td>\n",
       "      <td>2021_03</td>\n",
       "      <td>300027714</td>\n",
       "      <td>Nise granules 100 mg №9</td>\n",
       "      <td>713</td>\n",
       "    </tr>\n",
       "    <tr>\n",
       "      <th>286</th>\n",
       "      <td>D4</td>\n",
       "      <td>2021_03</td>\n",
       "      <td>300032413</td>\n",
       "      <td>NISE ACTIVGEL 20g Russia</td>\n",
       "      <td>150</td>\n",
       "    </tr>\n",
       "    <tr>\n",
       "      <th>235</th>\n",
       "      <td>D4</td>\n",
       "      <td>2021_03</td>\n",
       "      <td>300000604</td>\n",
       "      <td>Ciprolet tab f/c 500 mg №10</td>\n",
       "      <td>991</td>\n",
       "    </tr>\n",
       "    <tr>\n",
       "      <th>440</th>\n",
       "      <td>D8</td>\n",
       "      <td>2021_03</td>\n",
       "      <td>300001258</td>\n",
       "      <td>Ciprolet ED 5ml №1</td>\n",
       "      <td>208</td>\n",
       "    </tr>\n",
       "    <tr>\n",
       "      <th>153</th>\n",
       "      <td>D3</td>\n",
       "      <td>2021_03</td>\n",
       "      <td>300001157</td>\n",
       "      <td>Ciprolet inf 2mg/ml 100ml №1</td>\n",
       "      <td>128</td>\n",
       "    </tr>\n",
       "    <tr>\n",
       "      <th>137</th>\n",
       "      <td>D2</td>\n",
       "      <td>2021_03</td>\n",
       "      <td>300032412</td>\n",
       "      <td>Ketorol  inj 30mg/ml 1 ml №10</td>\n",
       "      <td>773</td>\n",
       "    </tr>\n",
       "  </tbody>\n",
       "</table>\n",
       "</div>"
      ],
      "text/plain": [
       "    Distributor    Month  Product_id_SS                Product_name_SS  S2103P\n",
       "222          D3  2021_03      300032412  Ketorol  inj 30mg/ml 1 ml №10     152\n",
       "294          D5  2021_03      300005873             Ketorol gel 2% 30g       8\n",
       "579         D11  2021_03      300028322     Nasivin nasal drops 0,025%     974\n",
       "162          D3  2021_03      300004174      Mitotax inf 30 mg/5 ml №1      13\n",
       "578         D11  2021_03      300027714        Nise granules 100 mg №9     713\n",
       "286          D4  2021_03      300032413       NISE ACTIVGEL 20g Russia     150\n",
       "235          D4  2021_03      300000604    Ciprolet tab f/c 500 mg №10     991\n",
       "440          D8  2021_03      300001258             Ciprolet ED 5ml №1     208\n",
       "153          D3  2021_03      300001157   Ciprolet inf 2mg/ml 100ml №1     128\n",
       "137          D2  2021_03      300032412  Ketorol  inj 30mg/ml 1 ml №10     773"
      ]
     },
     "execution_count": 72,
     "metadata": {},
     "output_type": "execute_result"
    }
   ],
   "source": [
    "monthly_df.sample(10)"
   ]
  },
  {
   "cell_type": "markdown",
   "metadata": {},
   "source": [
    "# 7) Предпроверка\n",
    "что все продукты из Monthly существуют в списке продуктов main"
   ]
  },
  {
   "cell_type": "code",
   "execution_count": 73,
   "metadata": {},
   "outputs": [
    {
     "data": {
      "text/plain": [
       "[300000108, 300007397]"
      ]
     },
     "execution_count": 73,
     "metadata": {},
     "output_type": "execute_result"
    }
   ],
   "source": [
    "monthly_sku = monthly_df['Product_id_SS'].unique()\n",
    "main_sku = main['Product_id_SS'].unique()\n",
    "\n",
    "not_found = []\n",
    "for x in monthly_sku:\n",
    "    if x not in main_sku:\n",
    "        not_found.append(x)\n",
    "not_found"
   ]
  },
  {
   "cell_type": "markdown",
   "metadata": {},
   "source": [
    "# 8) Присоединяем montly_df к main"
   ]
  },
  {
   "cell_type": "code",
   "execution_count": 74,
   "metadata": {},
   "outputs": [],
   "source": [
    "main = pd.merge(main, monthly_df[['Distributor', 'Product_id_SS','S2103P']], how = 'left',\n",
    "                          left_on = ['Distributor', 'Product_id_SS'], right_on = ['Distributor', 'Product_id_SS'])"
   ]
  },
  {
   "cell_type": "code",
   "execution_count": 75,
   "metadata": {},
   "outputs": [],
   "source": [
    "main.S2103P = main.S2103P.fillna(0)"
   ]
  },
  {
   "cell_type": "code",
   "execution_count": 76,
   "metadata": {
    "scrolled": false
   },
   "outputs": [
    {
     "data": {
      "text/html": [
       "<div>\n",
       "<style scoped>\n",
       "    .dataframe tbody tr th:only-of-type {\n",
       "        vertical-align: middle;\n",
       "    }\n",
       "\n",
       "    .dataframe tbody tr th {\n",
       "        vertical-align: top;\n",
       "    }\n",
       "\n",
       "    .dataframe thead th {\n",
       "        text-align: right;\n",
       "    }\n",
       "</style>\n",
       "<table border=\"1\" class=\"dataframe\">\n",
       "  <thead>\n",
       "    <tr style=\"text-align: right;\">\n",
       "      <th></th>\n",
       "      <th>Distributor</th>\n",
       "      <th>Product_id_SS</th>\n",
       "      <th>Product_name_SS</th>\n",
       "      <th>S1904P</th>\n",
       "      <th>S1905P</th>\n",
       "      <th>S1906P</th>\n",
       "      <th>S1907P</th>\n",
       "      <th>S1908P</th>\n",
       "      <th>S1909P</th>\n",
       "      <th>S1910P</th>\n",
       "      <th>...</th>\n",
       "      <th>S2006P</th>\n",
       "      <th>S2007P</th>\n",
       "      <th>S2008P</th>\n",
       "      <th>S2009P</th>\n",
       "      <th>S2010P</th>\n",
       "      <th>S2011P</th>\n",
       "      <th>S2012P</th>\n",
       "      <th>S2101P</th>\n",
       "      <th>S2102P</th>\n",
       "      <th>S2103P</th>\n",
       "    </tr>\n",
       "  </thead>\n",
       "  <tbody>\n",
       "    <tr>\n",
       "      <th>0</th>\n",
       "      <td>D1</td>\n",
       "      <td>300027136</td>\n",
       "      <td>Allerway 5 mg tab №10</td>\n",
       "      <td>319</td>\n",
       "      <td>986</td>\n",
       "      <td>443</td>\n",
       "      <td>800</td>\n",
       "      <td>227</td>\n",
       "      <td>92</td>\n",
       "      <td>77</td>\n",
       "      <td>...</td>\n",
       "      <td>691</td>\n",
       "      <td>541</td>\n",
       "      <td>722</td>\n",
       "      <td>89</td>\n",
       "      <td>325</td>\n",
       "      <td>985</td>\n",
       "      <td>50</td>\n",
       "      <td>15</td>\n",
       "      <td>634</td>\n",
       "      <td>150.00</td>\n",
       "    </tr>\n",
       "    <tr>\n",
       "      <th>1</th>\n",
       "      <td>D1</td>\n",
       "      <td>300027158</td>\n",
       "      <td>Allerway 5 mg tab №30</td>\n",
       "      <td>571</td>\n",
       "      <td>321</td>\n",
       "      <td>527</td>\n",
       "      <td>224</td>\n",
       "      <td>893</td>\n",
       "      <td>878</td>\n",
       "      <td>412</td>\n",
       "      <td>...</td>\n",
       "      <td>245</td>\n",
       "      <td>480</td>\n",
       "      <td>648</td>\n",
       "      <td>861</td>\n",
       "      <td>277</td>\n",
       "      <td>330</td>\n",
       "      <td>434</td>\n",
       "      <td>465</td>\n",
       "      <td>336</td>\n",
       "      <td>158.00</td>\n",
       "    </tr>\n",
       "  </tbody>\n",
       "</table>\n",
       "<p>2 rows × 27 columns</p>\n",
       "</div>"
      ],
      "text/plain": [
       "  Distributor  Product_id_SS        Product_name_SS  S1904P  S1905P  S1906P  \\\n",
       "0          D1      300027136  Allerway 5 mg tab №10     319     986     443   \n",
       "1          D1      300027158  Allerway 5 mg tab №30     571     321     527   \n",
       "\n",
       "   S1907P  S1908P  S1909P  S1910P  ...  S2006P  S2007P  S2008P  S2009P  \\\n",
       "0     800     227      92      77  ...     691     541     722      89   \n",
       "1     224     893     878     412  ...     245     480     648     861   \n",
       "\n",
       "   S2010P  S2011P  S2012P  S2101P  S2102P  S2103P  \n",
       "0     325     985      50      15     634  150.00  \n",
       "1     277     330     434     465     336  158.00  \n",
       "\n",
       "[2 rows x 27 columns]"
      ]
     },
     "execution_count": 76,
     "metadata": {},
     "output_type": "execute_result"
    }
   ],
   "source": [
    "main.head(2)"
   ]
  },
  {
   "cell_type": "markdown",
   "metadata": {},
   "source": [
    "# 9) Задаём Cur_mon, Cur_mon_LY   !!!!!!!!!!!!!"
   ]
  },
  {
   "cell_type": "code",
   "execution_count": 77,
   "metadata": {},
   "outputs": [],
   "source": [
    "mon = 'Mar'  #  для YTD\n",
    "main['Cur_mon_LY'] = main.S2003P\n",
    "main['Cur_mon'] = main.S2103P\n",
    "monthly_df['Cur_mon'] = monthly_df.S2103P  #  для Проверки!"
   ]
  },
  {
   "cell_type": "code",
   "execution_count": 78,
   "metadata": {
    "scrolled": false
   },
   "outputs": [
    {
     "data": {
      "text/html": [
       "<div>\n",
       "<style scoped>\n",
       "    .dataframe tbody tr th:only-of-type {\n",
       "        vertical-align: middle;\n",
       "    }\n",
       "\n",
       "    .dataframe tbody tr th {\n",
       "        vertical-align: top;\n",
       "    }\n",
       "\n",
       "    .dataframe thead th {\n",
       "        text-align: right;\n",
       "    }\n",
       "</style>\n",
       "<table border=\"1\" class=\"dataframe\">\n",
       "  <thead>\n",
       "    <tr style=\"text-align: right;\">\n",
       "      <th></th>\n",
       "      <th>Distributor</th>\n",
       "      <th>Product_id_SS</th>\n",
       "      <th>Product_name_SS</th>\n",
       "      <th>S1904P</th>\n",
       "      <th>S1905P</th>\n",
       "      <th>S1906P</th>\n",
       "      <th>S1907P</th>\n",
       "      <th>S1908P</th>\n",
       "      <th>S1909P</th>\n",
       "      <th>S1910P</th>\n",
       "      <th>...</th>\n",
       "      <th>S2008P</th>\n",
       "      <th>S2009P</th>\n",
       "      <th>S2010P</th>\n",
       "      <th>S2011P</th>\n",
       "      <th>S2012P</th>\n",
       "      <th>S2101P</th>\n",
       "      <th>S2102P</th>\n",
       "      <th>S2103P</th>\n",
       "      <th>Cur_mon_LY</th>\n",
       "      <th>Cur_mon</th>\n",
       "    </tr>\n",
       "  </thead>\n",
       "  <tbody>\n",
       "    <tr>\n",
       "      <th>0</th>\n",
       "      <td>D1</td>\n",
       "      <td>300027136</td>\n",
       "      <td>Allerway 5 mg tab №10</td>\n",
       "      <td>319</td>\n",
       "      <td>986</td>\n",
       "      <td>443</td>\n",
       "      <td>800</td>\n",
       "      <td>227</td>\n",
       "      <td>92</td>\n",
       "      <td>77</td>\n",
       "      <td>...</td>\n",
       "      <td>722</td>\n",
       "      <td>89</td>\n",
       "      <td>325</td>\n",
       "      <td>985</td>\n",
       "      <td>50</td>\n",
       "      <td>15</td>\n",
       "      <td>634</td>\n",
       "      <td>150.00</td>\n",
       "      <td>453</td>\n",
       "      <td>150.00</td>\n",
       "    </tr>\n",
       "    <tr>\n",
       "      <th>1</th>\n",
       "      <td>D1</td>\n",
       "      <td>300027158</td>\n",
       "      <td>Allerway 5 mg tab №30</td>\n",
       "      <td>571</td>\n",
       "      <td>321</td>\n",
       "      <td>527</td>\n",
       "      <td>224</td>\n",
       "      <td>893</td>\n",
       "      <td>878</td>\n",
       "      <td>412</td>\n",
       "      <td>...</td>\n",
       "      <td>648</td>\n",
       "      <td>861</td>\n",
       "      <td>277</td>\n",
       "      <td>330</td>\n",
       "      <td>434</td>\n",
       "      <td>465</td>\n",
       "      <td>336</td>\n",
       "      <td>158.00</td>\n",
       "      <td>187</td>\n",
       "      <td>158.00</td>\n",
       "    </tr>\n",
       "  </tbody>\n",
       "</table>\n",
       "<p>2 rows × 29 columns</p>\n",
       "</div>"
      ],
      "text/plain": [
       "  Distributor  Product_id_SS        Product_name_SS  S1904P  S1905P  S1906P  \\\n",
       "0          D1      300027136  Allerway 5 mg tab №10     319     986     443   \n",
       "1          D1      300027158  Allerway 5 mg tab №30     571     321     527   \n",
       "\n",
       "   S1907P  S1908P  S1909P  S1910P  ...  S2008P  S2009P  S2010P  S2011P  \\\n",
       "0     800     227      92      77  ...     722      89     325     985   \n",
       "1     224     893     878     412  ...     648     861     277     330   \n",
       "\n",
       "   S2012P  S2101P  S2102P  S2103P  Cur_mon_LY  Cur_mon  \n",
       "0      50      15     634  150.00         453   150.00  \n",
       "1     434     465     336  158.00         187   158.00  \n",
       "\n",
       "[2 rows x 29 columns]"
      ]
     },
     "execution_count": 78,
     "metadata": {},
     "output_type": "execute_result"
    }
   ],
   "source": [
    "main.head(2)"
   ]
  },
  {
   "cell_type": "code",
   "execution_count": 79,
   "metadata": {
    "scrolled": true
   },
   "outputs": [
    {
     "data": {
      "text/html": [
       "<div>\n",
       "<style scoped>\n",
       "    .dataframe tbody tr th:only-of-type {\n",
       "        vertical-align: middle;\n",
       "    }\n",
       "\n",
       "    .dataframe tbody tr th {\n",
       "        vertical-align: top;\n",
       "    }\n",
       "\n",
       "    .dataframe thead th {\n",
       "        text-align: right;\n",
       "    }\n",
       "</style>\n",
       "<table border=\"1\" class=\"dataframe\">\n",
       "  <thead>\n",
       "    <tr style=\"text-align: right;\">\n",
       "      <th></th>\n",
       "      <th>Distributor</th>\n",
       "      <th>Month</th>\n",
       "      <th>Product_id_SS</th>\n",
       "      <th>Product_name_SS</th>\n",
       "      <th>S2103P</th>\n",
       "      <th>Cur_mon</th>\n",
       "    </tr>\n",
       "  </thead>\n",
       "  <tbody>\n",
       "    <tr>\n",
       "      <th>0</th>\n",
       "      <td>D1</td>\n",
       "      <td>2021_03</td>\n",
       "      <td>300000108</td>\n",
       "      <td>Irnocam 100  mg</td>\n",
       "      <td>15</td>\n",
       "      <td>15</td>\n",
       "    </tr>\n",
       "    <tr>\n",
       "      <th>1</th>\n",
       "      <td>D1</td>\n",
       "      <td>2021_03</td>\n",
       "      <td>300000169</td>\n",
       "      <td>Ibuclin junior tab №20</td>\n",
       "      <td>287</td>\n",
       "      <td>287</td>\n",
       "    </tr>\n",
       "  </tbody>\n",
       "</table>\n",
       "</div>"
      ],
      "text/plain": [
       "  Distributor    Month  Product_id_SS         Product_name_SS  S2103P  Cur_mon\n",
       "0          D1  2021_03      300000108         Irnocam 100  mg      15       15\n",
       "1          D1  2021_03      300000169  Ibuclin junior tab №20     287      287"
      ]
     },
     "execution_count": 79,
     "metadata": {},
     "output_type": "execute_result"
    }
   ],
   "source": [
    "monthly_df.head(2)"
   ]
  },
  {
   "cell_type": "markdown",
   "metadata": {},
   "source": [
    "# 10) Постпроверка\n",
    "- A) по сумме,\n",
    "- B) дистрам,\n",
    "- C) продуктам"
   ]
  },
  {
   "cell_type": "markdown",
   "metadata": {},
   "source": [
    "### А) по общей сумме"
   ]
  },
  {
   "cell_type": "code",
   "execution_count": 80,
   "metadata": {},
   "outputs": [
    {
     "data": {
      "text/plain": [
       "False"
      ]
     },
     "execution_count": 80,
     "metadata": {},
     "output_type": "execute_result"
    }
   ],
   "source": [
    "monthly_sum = monthly_df.Cur_mon.sum()\n",
    "main_sum = main.Cur_mon.sum()\n",
    "main_sum==monthly_sum"
   ]
  },
  {
   "cell_type": "code",
   "execution_count": 81,
   "metadata": {},
   "outputs": [
    {
     "data": {
      "text/plain": [
       "304713.0"
      ]
     },
     "execution_count": 81,
     "metadata": {},
     "output_type": "execute_result"
    }
   ],
   "source": [
    "main_sum"
   ]
  },
  {
   "cell_type": "markdown",
   "metadata": {},
   "source": [
    "### B) по дистрам"
   ]
  },
  {
   "cell_type": "code",
   "execution_count": 82,
   "metadata": {},
   "outputs": [
    {
     "data": {
      "text/html": [
       "<div>\n",
       "<style scoped>\n",
       "    .dataframe tbody tr th:only-of-type {\n",
       "        vertical-align: middle;\n",
       "    }\n",
       "\n",
       "    .dataframe tbody tr th {\n",
       "        vertical-align: top;\n",
       "    }\n",
       "\n",
       "    .dataframe thead th {\n",
       "        text-align: right;\n",
       "    }\n",
       "</style>\n",
       "<table border=\"1\" class=\"dataframe\">\n",
       "  <thead>\n",
       "    <tr style=\"text-align: right;\">\n",
       "      <th></th>\n",
       "      <th>Distributor</th>\n",
       "      <th>Cur_mon_x</th>\n",
       "      <th>Cur_mon_y</th>\n",
       "      <th>Diff</th>\n",
       "    </tr>\n",
       "  </thead>\n",
       "  <tbody>\n",
       "    <tr>\n",
       "      <th>0</th>\n",
       "      <td>D1</td>\n",
       "      <td>49954</td>\n",
       "      <td>49,930.00</td>\n",
       "      <td>24.00</td>\n",
       "    </tr>\n",
       "    <tr>\n",
       "      <th>1</th>\n",
       "      <td>D10</td>\n",
       "      <td>14450</td>\n",
       "      <td>14,450.00</td>\n",
       "      <td>0.00</td>\n",
       "    </tr>\n",
       "    <tr>\n",
       "      <th>2</th>\n",
       "      <td>D11</td>\n",
       "      <td>34492</td>\n",
       "      <td>34,492.00</td>\n",
       "      <td>0.00</td>\n",
       "    </tr>\n",
       "    <tr>\n",
       "      <th>3</th>\n",
       "      <td>D2</td>\n",
       "      <td>22014</td>\n",
       "      <td>22,014.00</td>\n",
       "      <td>0.00</td>\n",
       "    </tr>\n",
       "    <tr>\n",
       "      <th>4</th>\n",
       "      <td>D3</td>\n",
       "      <td>9721</td>\n",
       "      <td>9,701.00</td>\n",
       "      <td>20.00</td>\n",
       "    </tr>\n",
       "    <tr>\n",
       "      <th>5</th>\n",
       "      <td>D4</td>\n",
       "      <td>22741</td>\n",
       "      <td>22,741.00</td>\n",
       "      <td>0.00</td>\n",
       "    </tr>\n",
       "    <tr>\n",
       "      <th>6</th>\n",
       "      <td>D5</td>\n",
       "      <td>176</td>\n",
       "      <td>176.00</td>\n",
       "      <td>0.00</td>\n",
       "    </tr>\n",
       "    <tr>\n",
       "      <th>7</th>\n",
       "      <td>D6</td>\n",
       "      <td>87950</td>\n",
       "      <td>87,950.00</td>\n",
       "      <td>0.00</td>\n",
       "    </tr>\n",
       "    <tr>\n",
       "      <th>8</th>\n",
       "      <td>D7</td>\n",
       "      <td>6876</td>\n",
       "      <td>6,862.00</td>\n",
       "      <td>14.00</td>\n",
       "    </tr>\n",
       "    <tr>\n",
       "      <th>9</th>\n",
       "      <td>D8</td>\n",
       "      <td>35491</td>\n",
       "      <td>35,491.00</td>\n",
       "      <td>0.00</td>\n",
       "    </tr>\n",
       "    <tr>\n",
       "      <th>10</th>\n",
       "      <td>D9</td>\n",
       "      <td>20906</td>\n",
       "      <td>20,906.00</td>\n",
       "      <td>0.00</td>\n",
       "    </tr>\n",
       "  </tbody>\n",
       "</table>\n",
       "</div>"
      ],
      "text/plain": [
       "   Distributor  Cur_mon_x  Cur_mon_y  Diff\n",
       "0           D1      49954  49,930.00 24.00\n",
       "1          D10      14450  14,450.00  0.00\n",
       "2          D11      34492  34,492.00  0.00\n",
       "3           D2      22014  22,014.00  0.00\n",
       "4           D3       9721   9,701.00 20.00\n",
       "5           D4      22741  22,741.00  0.00\n",
       "6           D5        176     176.00  0.00\n",
       "7           D6      87950  87,950.00  0.00\n",
       "8           D7       6876   6,862.00 14.00\n",
       "9           D8      35491  35,491.00  0.00\n",
       "10          D9      20906  20,906.00  0.00"
      ]
     },
     "execution_count": 82,
     "metadata": {},
     "output_type": "execute_result"
    }
   ],
   "source": [
    "mon_dist = monthly_df.groupby(['Distributor']).sum().reset_index()[['Distributor','Cur_mon']]\n",
    "main_dist = main.groupby(['Distributor']).sum().reset_index()[['Distributor', 'Cur_mon']]\n",
    "check_dist = pd.merge(mon_dist, main_dist, how ='outer', on = 'Distributor')\n",
    "check_dist['Diff'] = check_dist.Cur_mon_x - check_dist.Cur_mon_y\n",
    "check_dist"
   ]
  },
  {
   "cell_type": "markdown",
   "metadata": {},
   "source": [
    "### C) по продуктам"
   ]
  },
  {
   "cell_type": "code",
   "execution_count": 83,
   "metadata": {
    "scrolled": true
   },
   "outputs": [],
   "source": [
    "monthly_prods = monthly_df.groupby(['Product_name_SS',\n",
    "                                    'Product_id_SS']).sum().reset_index()[['Product_name_SS','Product_id_SS','Cur_mon']]\n",
    "main_prods = main.groupby(['Product_id_SS',\n",
    "    'Product_name_SS']).sum().reset_index()[['Product_name_SS','Product_id_SS', 'Cur_mon']]\n",
    "\n",
    "check_prods = pd.merge(monthly_prods, main_prods, how ='outer', on=['Product_name_SS', 'Product_id_SS'])\n",
    "check_prods['Diff'] = check_prods.Cur_mon_x - check_prods.Cur_mon_y"
   ]
  },
  {
   "cell_type": "code",
   "execution_count": 84,
   "metadata": {},
   "outputs": [
    {
     "data": {
      "text/html": [
       "<div>\n",
       "<style scoped>\n",
       "    .dataframe tbody tr th:only-of-type {\n",
       "        vertical-align: middle;\n",
       "    }\n",
       "\n",
       "    .dataframe tbody tr th {\n",
       "        vertical-align: top;\n",
       "    }\n",
       "\n",
       "    .dataframe thead th {\n",
       "        text-align: right;\n",
       "    }\n",
       "</style>\n",
       "<table border=\"1\" class=\"dataframe\">\n",
       "  <thead>\n",
       "    <tr style=\"text-align: right;\">\n",
       "      <th></th>\n",
       "      <th>Product_name_SS</th>\n",
       "      <th>Product_id_SS</th>\n",
       "      <th>Cur_mon_x</th>\n",
       "      <th>Cur_mon_y</th>\n",
       "      <th>Diff</th>\n",
       "    </tr>\n",
       "  </thead>\n",
       "  <tbody>\n",
       "    <tr>\n",
       "      <th>0</th>\n",
       "      <td>Allerway 5 mg tab №10</td>\n",
       "      <td>300027136</td>\n",
       "      <td>2,484.00</td>\n",
       "      <td>2,484.00</td>\n",
       "      <td>0.00</td>\n",
       "    </tr>\n",
       "    <tr>\n",
       "      <th>1</th>\n",
       "      <td>Allerway 5 mg tab №30</td>\n",
       "      <td>300027158</td>\n",
       "      <td>1,125.00</td>\n",
       "      <td>1,125.00</td>\n",
       "      <td>0.00</td>\n",
       "    </tr>\n",
       "  </tbody>\n",
       "</table>\n",
       "</div>"
      ],
      "text/plain": [
       "         Product_name_SS  Product_id_SS  Cur_mon_x  Cur_mon_y  Diff\n",
       "0  Allerway 5 mg tab №10      300027136   2,484.00   2,484.00  0.00\n",
       "1  Allerway 5 mg tab №30      300027158   1,125.00   1,125.00  0.00"
      ]
     },
     "execution_count": 84,
     "metadata": {},
     "output_type": "execute_result"
    }
   ],
   "source": [
    "check_prods.head(2)"
   ]
  },
  {
   "cell_type": "markdown",
   "metadata": {},
   "source": [
    "#### Выгружаем main в xlsx\n",
    "для использования в следующий месяц"
   ]
  },
  {
   "cell_type": "code",
   "execution_count": 85,
   "metadata": {},
   "outputs": [],
   "source": [
    "# main.to_excel(r'C:\\Data\\Илья\\DataScience\\D_report\\Data_x.xlsx', index = False)"
   ]
  },
  {
   "cell_type": "markdown",
   "metadata": {},
   "source": [
    "# 11) Расчёт Sales YTD & YTD_LY"
   ]
  },
  {
   "cell_type": "code",
   "execution_count": 87,
   "metadata": {},
   "outputs": [],
   "source": [
    "main['YTD_LY'] = YTD_1920(mon)\n",
    "main['YTD'] = YTD_2021(mon)"
   ]
  },
  {
   "cell_type": "markdown",
   "metadata": {},
   "source": [
    "# 12) Оставляем Cur_mon и YTD"
   ]
  },
  {
   "cell_type": "code",
   "execution_count": 88,
   "metadata": {},
   "outputs": [],
   "source": [
    "selected_packs = main[['Distributor', 'Product_name_SS', 'Product_id_SS', 'Cur_mon_LY', 'Cur_mon', 'YTD_LY', 'YTD']].copy()\n",
    "selected_packs['Measure'] = 'Packs'"
   ]
  },
  {
   "cell_type": "code",
   "execution_count": 89,
   "metadata": {},
   "outputs": [
    {
     "data": {
      "text/html": [
       "<div>\n",
       "<style scoped>\n",
       "    .dataframe tbody tr th:only-of-type {\n",
       "        vertical-align: middle;\n",
       "    }\n",
       "\n",
       "    .dataframe tbody tr th {\n",
       "        vertical-align: top;\n",
       "    }\n",
       "\n",
       "    .dataframe thead th {\n",
       "        text-align: right;\n",
       "    }\n",
       "</style>\n",
       "<table border=\"1\" class=\"dataframe\">\n",
       "  <thead>\n",
       "    <tr style=\"text-align: right;\">\n",
       "      <th></th>\n",
       "      <th>Distributor</th>\n",
       "      <th>Product_name_SS</th>\n",
       "      <th>Product_id_SS</th>\n",
       "      <th>Cur_mon_LY</th>\n",
       "      <th>Cur_mon</th>\n",
       "      <th>YTD_LY</th>\n",
       "      <th>YTD</th>\n",
       "      <th>Measure</th>\n",
       "    </tr>\n",
       "  </thead>\n",
       "  <tbody>\n",
       "    <tr>\n",
       "      <th>0</th>\n",
       "      <td>D1</td>\n",
       "      <td>Allerway 5 mg tab №10</td>\n",
       "      <td>300027136</td>\n",
       "      <td>453</td>\n",
       "      <td>150.00</td>\n",
       "      <td>4716</td>\n",
       "      <td>5,776.00</td>\n",
       "      <td>Packs</td>\n",
       "    </tr>\n",
       "    <tr>\n",
       "      <th>1</th>\n",
       "      <td>D1</td>\n",
       "      <td>Allerway 5 mg tab №30</td>\n",
       "      <td>300027158</td>\n",
       "      <td>187</td>\n",
       "      <td>158.00</td>\n",
       "      <td>6411</td>\n",
       "      <td>5,564.00</td>\n",
       "      <td>Packs</td>\n",
       "    </tr>\n",
       "  </tbody>\n",
       "</table>\n",
       "</div>"
      ],
      "text/plain": [
       "  Distributor        Product_name_SS  Product_id_SS  Cur_mon_LY  Cur_mon  \\\n",
       "0          D1  Allerway 5 mg tab №10      300027136         453   150.00   \n",
       "1          D1  Allerway 5 mg tab №30      300027158         187   158.00   \n",
       "\n",
       "   YTD_LY      YTD Measure  \n",
       "0    4716 5,776.00   Packs  \n",
       "1    6411 5,564.00   Packs  "
      ]
     },
     "execution_count": 89,
     "metadata": {},
     "output_type": "execute_result"
    }
   ],
   "source": [
    "selected_packs.head(2)"
   ]
  },
  {
   "cell_type": "markdown",
   "metadata": {},
   "source": [
    "# 13) Рассчитываем Тотал по дистрам"
   ]
  },
  {
   "cell_type": "code",
   "execution_count": 90,
   "metadata": {},
   "outputs": [],
   "source": [
    "Total = selected_packs.groupby(['Product_id_SS', 'Product_name_SS', 'Measure']).sum().reset_index()\n",
    "Total['Distributor'] = 'Total'"
   ]
  },
  {
   "cell_type": "code",
   "execution_count": 91,
   "metadata": {
    "scrolled": false
   },
   "outputs": [
    {
     "data": {
      "text/html": [
       "<div>\n",
       "<style scoped>\n",
       "    .dataframe tbody tr th:only-of-type {\n",
       "        vertical-align: middle;\n",
       "    }\n",
       "\n",
       "    .dataframe tbody tr th {\n",
       "        vertical-align: top;\n",
       "    }\n",
       "\n",
       "    .dataframe thead th {\n",
       "        text-align: right;\n",
       "    }\n",
       "</style>\n",
       "<table border=\"1\" class=\"dataframe\">\n",
       "  <thead>\n",
       "    <tr style=\"text-align: right;\">\n",
       "      <th></th>\n",
       "      <th>Product_id_SS</th>\n",
       "      <th>Product_name_SS</th>\n",
       "      <th>Measure</th>\n",
       "      <th>Cur_mon_LY</th>\n",
       "      <th>Cur_mon</th>\n",
       "      <th>YTD_LY</th>\n",
       "      <th>YTD</th>\n",
       "      <th>Distributor</th>\n",
       "    </tr>\n",
       "  </thead>\n",
       "  <tbody>\n",
       "    <tr>\n",
       "      <th>0</th>\n",
       "      <td>300000169</td>\n",
       "      <td>Ibuclin junior tab №20</td>\n",
       "      <td>Packs</td>\n",
       "      <td>4427</td>\n",
       "      <td>4,043.00</td>\n",
       "      <td>66328</td>\n",
       "      <td>66,948.00</td>\n",
       "      <td>Total</td>\n",
       "    </tr>\n",
       "    <tr>\n",
       "      <th>1</th>\n",
       "      <td>300000269</td>\n",
       "      <td>Novigan tab f/c №20</td>\n",
       "      <td>Packs</td>\n",
       "      <td>5788</td>\n",
       "      <td>2,410.00</td>\n",
       "      <td>66393</td>\n",
       "      <td>66,386.00</td>\n",
       "      <td>Total</td>\n",
       "    </tr>\n",
       "  </tbody>\n",
       "</table>\n",
       "</div>"
      ],
      "text/plain": [
       "   Product_id_SS         Product_name_SS Measure  Cur_mon_LY  Cur_mon  YTD_LY  \\\n",
       "0      300000169  Ibuclin junior tab №20   Packs        4427 4,043.00   66328   \n",
       "1      300000269     Novigan tab f/c №20   Packs        5788 2,410.00   66393   \n",
       "\n",
       "        YTD Distributor  \n",
       "0 66,948.00       Total  \n",
       "1 66,386.00       Total  "
      ]
     },
     "execution_count": 91,
     "metadata": {},
     "output_type": "execute_result"
    }
   ],
   "source": [
    "Total.head(2)"
   ]
  },
  {
   "cell_type": "markdown",
   "metadata": {},
   "source": [
    "# 14) Присоединяем Тотал к _ selected_packs"
   ]
  },
  {
   "cell_type": "code",
   "execution_count": 92,
   "metadata": {},
   "outputs": [],
   "source": [
    "selected_packs = pd.concat([selected_packs, Total])"
   ]
  },
  {
   "cell_type": "code",
   "execution_count": 93,
   "metadata": {
    "scrolled": true
   },
   "outputs": [
    {
     "data": {
      "text/html": [
       "<div>\n",
       "<style scoped>\n",
       "    .dataframe tbody tr th:only-of-type {\n",
       "        vertical-align: middle;\n",
       "    }\n",
       "\n",
       "    .dataframe tbody tr th {\n",
       "        vertical-align: top;\n",
       "    }\n",
       "\n",
       "    .dataframe thead th {\n",
       "        text-align: right;\n",
       "    }\n",
       "</style>\n",
       "<table border=\"1\" class=\"dataframe\">\n",
       "  <thead>\n",
       "    <tr style=\"text-align: right;\">\n",
       "      <th></th>\n",
       "      <th>Distributor</th>\n",
       "      <th>Product_name_SS</th>\n",
       "      <th>Product_id_SS</th>\n",
       "      <th>Cur_mon_LY</th>\n",
       "      <th>Cur_mon</th>\n",
       "      <th>YTD_LY</th>\n",
       "      <th>YTD</th>\n",
       "      <th>Measure</th>\n",
       "    </tr>\n",
       "  </thead>\n",
       "  <tbody>\n",
       "    <tr>\n",
       "      <th>195</th>\n",
       "      <td>D11</td>\n",
       "      <td>Femibion Natal Care II tab №30 + caps №30</td>\n",
       "      <td>300008741</td>\n",
       "      <td>458</td>\n",
       "      <td>0.00</td>\n",
       "      <td>6435</td>\n",
       "      <td>5,298.00</td>\n",
       "      <td>Packs</td>\n",
       "    </tr>\n",
       "    <tr>\n",
       "      <th>637</th>\n",
       "      <td>D6</td>\n",
       "      <td>Levolet R tab f/c 500mg №10</td>\n",
       "      <td>300004774</td>\n",
       "      <td>468</td>\n",
       "      <td>1.00</td>\n",
       "      <td>5015</td>\n",
       "      <td>4,446.00</td>\n",
       "      <td>Packs</td>\n",
       "    </tr>\n",
       "    <tr>\n",
       "      <th>280</th>\n",
       "      <td>D2</td>\n",
       "      <td>Femibion Natal Care I tab f/c №30</td>\n",
       "      <td>300013022</td>\n",
       "      <td>519</td>\n",
       "      <td>166.00</td>\n",
       "      <td>6264</td>\n",
       "      <td>5,950.00</td>\n",
       "      <td>Packs</td>\n",
       "    </tr>\n",
       "    <tr>\n",
       "      <th>676</th>\n",
       "      <td>D6</td>\n",
       "      <td>Omez lyoph. inf 40mg №1</td>\n",
       "      <td>300008393</td>\n",
       "      <td>147</td>\n",
       "      <td>179.00</td>\n",
       "      <td>7899</td>\n",
       "      <td>3,840.00</td>\n",
       "      <td>Packs</td>\n",
       "    </tr>\n",
       "    <tr>\n",
       "      <th>477</th>\n",
       "      <td>D4</td>\n",
       "      <td>Nasivin Metered Spray 0.005%10ml</td>\n",
       "      <td>300029322</td>\n",
       "      <td>418</td>\n",
       "      <td>243.00</td>\n",
       "      <td>7007</td>\n",
       "      <td>5,606.00</td>\n",
       "      <td>Packs</td>\n",
       "    </tr>\n",
       "  </tbody>\n",
       "</table>\n",
       "</div>"
      ],
      "text/plain": [
       "    Distributor                            Product_name_SS  Product_id_SS  \\\n",
       "195         D11  Femibion Natal Care II tab №30 + caps №30      300008741   \n",
       "637          D6                Levolet R tab f/c 500mg №10      300004774   \n",
       "280          D2          Femibion Natal Care I tab f/c №30      300013022   \n",
       "676          D6                    Omez lyoph. inf 40mg №1      300008393   \n",
       "477          D4           Nasivin Metered Spray 0.005%10ml      300029322   \n",
       "\n",
       "     Cur_mon_LY  Cur_mon  YTD_LY      YTD Measure  \n",
       "195         458     0.00    6435 5,298.00   Packs  \n",
       "637         468     1.00    5015 4,446.00   Packs  \n",
       "280         519   166.00    6264 5,950.00   Packs  \n",
       "676         147   179.00    7899 3,840.00   Packs  \n",
       "477         418   243.00    7007 5,606.00   Packs  "
      ]
     },
     "execution_count": 93,
     "metadata": {},
     "output_type": "execute_result"
    }
   ],
   "source": [
    "selected_packs.sample(5)"
   ]
  },
  {
   "cell_type": "markdown",
   "metadata": {},
   "source": [
    "# 15) Расчёт Руб\n",
    "Умножаем на цены"
   ]
  },
  {
   "cell_type": "code",
   "execution_count": 94,
   "metadata": {},
   "outputs": [],
   "source": [
    "selected_rub = pd.merge(selected_packs, prices[['Product_id_SS','Price_fix_RUB']], how = 'left', on = 'Product_id_SS')"
   ]
  },
  {
   "cell_type": "code",
   "execution_count": 95,
   "metadata": {},
   "outputs": [],
   "source": [
    "selected_rub['Cur_mon_LY'] = selected_rub.Cur_mon_LY.multiply(selected_rub.Price_fix_RUB)\n",
    "selected_rub['Cur_mon'] = selected_rub.Cur_mon.multiply(selected_rub.Price_fix_RUB)\n",
    "selected_rub['YTD_LY'] = selected_rub.YTD_LY.multiply(selected_rub.Price_fix_RUB)\n",
    "selected_rub['YTD'] = selected_rub.YTD.multiply(selected_rub.Price_fix_RUB)\n",
    "selected_rub['Measure'] = 'RUB'\n",
    "selected_rub = selected_rub.drop('Price_fix_RUB', axis = 1)"
   ]
  },
  {
   "cell_type": "code",
   "execution_count": 96,
   "metadata": {},
   "outputs": [
    {
     "data": {
      "text/html": [
       "<div>\n",
       "<style scoped>\n",
       "    .dataframe tbody tr th:only-of-type {\n",
       "        vertical-align: middle;\n",
       "    }\n",
       "\n",
       "    .dataframe tbody tr th {\n",
       "        vertical-align: top;\n",
       "    }\n",
       "\n",
       "    .dataframe thead th {\n",
       "        text-align: right;\n",
       "    }\n",
       "</style>\n",
       "<table border=\"1\" class=\"dataframe\">\n",
       "  <thead>\n",
       "    <tr style=\"text-align: right;\">\n",
       "      <th></th>\n",
       "      <th>Distributor</th>\n",
       "      <th>Product_name_SS</th>\n",
       "      <th>Product_id_SS</th>\n",
       "      <th>Cur_mon_LY</th>\n",
       "      <th>Cur_mon</th>\n",
       "      <th>YTD_LY</th>\n",
       "      <th>YTD</th>\n",
       "      <th>Measure</th>\n",
       "    </tr>\n",
       "  </thead>\n",
       "  <tbody>\n",
       "    <tr>\n",
       "      <th>660</th>\n",
       "      <td>D6</td>\n",
       "      <td>Nise gel 1% 100g</td>\n",
       "      <td>300021569</td>\n",
       "      <td>527176</td>\n",
       "      <td>6,734.00</td>\n",
       "      <td>6075992</td>\n",
       "      <td>5,020,678.00</td>\n",
       "      <td>RUB</td>\n",
       "    </tr>\n",
       "    <tr>\n",
       "      <th>132</th>\n",
       "      <td>D10</td>\n",
       "      <td>Momat Rino Advance 75</td>\n",
       "      <td>300034607</td>\n",
       "      <td>133056</td>\n",
       "      <td>0.00</td>\n",
       "      <td>1855623</td>\n",
       "      <td>1,510,278.00</td>\n",
       "      <td>RUB</td>\n",
       "    </tr>\n",
       "  </tbody>\n",
       "</table>\n",
       "</div>"
      ],
      "text/plain": [
       "    Distributor        Product_name_SS  Product_id_SS  Cur_mon_LY  Cur_mon  \\\n",
       "660          D6       Nise gel 1% 100g      300021569      527176 6,734.00   \n",
       "132         D10  Momat Rino Advance 75      300034607      133056     0.00   \n",
       "\n",
       "      YTD_LY          YTD Measure  \n",
       "660  6075992 5,020,678.00     RUB  \n",
       "132  1855623 1,510,278.00     RUB  "
      ]
     },
     "execution_count": 96,
     "metadata": {},
     "output_type": "execute_result"
    }
   ],
   "source": [
    "selected_rub.sample(2)"
   ]
  },
  {
   "cell_type": "markdown",
   "metadata": {},
   "source": [
    "### Собираем Packs & RUB в единый df"
   ]
  },
  {
   "cell_type": "code",
   "execution_count": 97,
   "metadata": {},
   "outputs": [],
   "source": [
    "selected_all = pd.concat([selected_packs, selected_rub]).reset_index()\n",
    "# важно обновить Индекс! иначе он дублируется"
   ]
  },
  {
   "cell_type": "code",
   "execution_count": 98,
   "metadata": {},
   "outputs": [],
   "source": [
    "selected_all= selected_all.drop('index', axis = 1)"
   ]
  },
  {
   "cell_type": "code",
   "execution_count": 99,
   "metadata": {},
   "outputs": [
    {
     "data": {
      "text/html": [
       "<div>\n",
       "<style scoped>\n",
       "    .dataframe tbody tr th:only-of-type {\n",
       "        vertical-align: middle;\n",
       "    }\n",
       "\n",
       "    .dataframe tbody tr th {\n",
       "        vertical-align: top;\n",
       "    }\n",
       "\n",
       "    .dataframe thead th {\n",
       "        text-align: right;\n",
       "    }\n",
       "</style>\n",
       "<table border=\"1\" class=\"dataframe\">\n",
       "  <thead>\n",
       "    <tr style=\"text-align: right;\">\n",
       "      <th></th>\n",
       "      <th>Distributor</th>\n",
       "      <th>Product_name_SS</th>\n",
       "      <th>Product_id_SS</th>\n",
       "      <th>Cur_mon_LY</th>\n",
       "      <th>Cur_mon</th>\n",
       "      <th>YTD_LY</th>\n",
       "      <th>YTD</th>\n",
       "      <th>Measure</th>\n",
       "    </tr>\n",
       "  </thead>\n",
       "  <tbody>\n",
       "    <tr>\n",
       "      <th>1778</th>\n",
       "      <td>D7</td>\n",
       "      <td>Nise gel 1% 100g</td>\n",
       "      <td>300021569</td>\n",
       "      <td>47138</td>\n",
       "      <td>82,732.00</td>\n",
       "      <td>7381426</td>\n",
       "      <td>6,088,498.00</td>\n",
       "      <td>RUB</td>\n",
       "    </tr>\n",
       "    <tr>\n",
       "      <th>1097</th>\n",
       "      <td>D1</td>\n",
       "      <td>Normase sirup 200ml</td>\n",
       "      <td>300001766</td>\n",
       "      <td>793305</td>\n",
       "      <td>911,340.00</td>\n",
       "      <td>3727710</td>\n",
       "      <td>6,384,870.00</td>\n",
       "      <td>RUB</td>\n",
       "    </tr>\n",
       "  </tbody>\n",
       "</table>\n",
       "</div>"
      ],
      "text/plain": [
       "     Distributor      Product_name_SS  Product_id_SS  Cur_mon_LY    Cur_mon  \\\n",
       "1778          D7     Nise gel 1% 100g      300021569       47138  82,732.00   \n",
       "1097          D1  Normase sirup 200ml      300001766      793305 911,340.00   \n",
       "\n",
       "       YTD_LY          YTD Measure  \n",
       "1778  7381426 6,088,498.00     RUB  \n",
       "1097  3727710 6,384,870.00     RUB  "
      ]
     },
     "execution_count": 99,
     "metadata": {},
     "output_type": "execute_result"
    }
   ],
   "source": [
    "selected_all.sample(2)"
   ]
  },
  {
   "cell_type": "markdown",
   "metadata": {},
   "source": [
    "# 16) Добавляем Тотал по продуктам в Уп и Руб "
   ]
  },
  {
   "cell_type": "code",
   "execution_count": 100,
   "metadata": {},
   "outputs": [],
   "source": [
    "total_all = selected_all[['Distributor', 'Cur_mon_LY', 'Cur_mon', 'YTD_LY', 'YTD', 'Measure']].groupby(['Measure','Distributor']).sum().reset_index()"
   ]
  },
  {
   "cell_type": "code",
   "execution_count": 101,
   "metadata": {},
   "outputs": [],
   "source": [
    "total_all['Product_name_SS'] = 'Total'\n",
    "total_all['Product_id_SS'] = 'Total'"
   ]
  },
  {
   "cell_type": "code",
   "execution_count": 102,
   "metadata": {},
   "outputs": [
    {
     "data": {
      "text/html": [
       "<div>\n",
       "<style scoped>\n",
       "    .dataframe tbody tr th:only-of-type {\n",
       "        vertical-align: middle;\n",
       "    }\n",
       "\n",
       "    .dataframe tbody tr th {\n",
       "        vertical-align: top;\n",
       "    }\n",
       "\n",
       "    .dataframe thead th {\n",
       "        text-align: right;\n",
       "    }\n",
       "</style>\n",
       "<table border=\"1\" class=\"dataframe\">\n",
       "  <thead>\n",
       "    <tr style=\"text-align: right;\">\n",
       "      <th></th>\n",
       "      <th>Measure</th>\n",
       "      <th>Distributor</th>\n",
       "      <th>Cur_mon_LY</th>\n",
       "      <th>Cur_mon</th>\n",
       "      <th>YTD_LY</th>\n",
       "      <th>YTD</th>\n",
       "      <th>Product_name_SS</th>\n",
       "      <th>Product_id_SS</th>\n",
       "    </tr>\n",
       "  </thead>\n",
       "  <tbody>\n",
       "    <tr>\n",
       "      <th>10</th>\n",
       "      <td>Packs</td>\n",
       "      <td>D9</td>\n",
       "      <td>41317</td>\n",
       "      <td>20,906.00</td>\n",
       "      <td>510591</td>\n",
       "      <td>484,038.00</td>\n",
       "      <td>Total</td>\n",
       "      <td>Total</td>\n",
       "    </tr>\n",
       "    <tr>\n",
       "      <th>16</th>\n",
       "      <td>RUB</td>\n",
       "      <td>D3</td>\n",
       "      <td>18317539</td>\n",
       "      <td>4,991,803.00</td>\n",
       "      <td>254837526</td>\n",
       "      <td>241,878,807.00</td>\n",
       "      <td>Total</td>\n",
       "      <td>Total</td>\n",
       "    </tr>\n",
       "  </tbody>\n",
       "</table>\n",
       "</div>"
      ],
      "text/plain": [
       "   Measure Distributor  Cur_mon_LY      Cur_mon     YTD_LY            YTD  \\\n",
       "10   Packs          D9       41317    20,906.00     510591     484,038.00   \n",
       "16     RUB          D3    18317539 4,991,803.00  254837526 241,878,807.00   \n",
       "\n",
       "   Product_name_SS Product_id_SS  \n",
       "10           Total         Total  \n",
       "16           Total         Total  "
      ]
     },
     "execution_count": 102,
     "metadata": {},
     "output_type": "execute_result"
    }
   ],
   "source": [
    "total_all.sample(2)"
   ]
  },
  {
   "cell_type": "code",
   "execution_count": 103,
   "metadata": {},
   "outputs": [],
   "source": [
    "selected_all = pd.concat([selected_all, total_all]).reset_index().drop('index', axis=1)"
   ]
  },
  {
   "cell_type": "code",
   "execution_count": 104,
   "metadata": {},
   "outputs": [
    {
     "data": {
      "text/html": [
       "<div>\n",
       "<style scoped>\n",
       "    .dataframe tbody tr th:only-of-type {\n",
       "        vertical-align: middle;\n",
       "    }\n",
       "\n",
       "    .dataframe tbody tr th {\n",
       "        vertical-align: top;\n",
       "    }\n",
       "\n",
       "    .dataframe thead th {\n",
       "        text-align: right;\n",
       "    }\n",
       "</style>\n",
       "<table border=\"1\" class=\"dataframe\">\n",
       "  <thead>\n",
       "    <tr style=\"text-align: right;\">\n",
       "      <th></th>\n",
       "      <th>Distributor</th>\n",
       "      <th>Product_name_SS</th>\n",
       "      <th>Product_id_SS</th>\n",
       "      <th>Cur_mon_LY</th>\n",
       "      <th>Cur_mon</th>\n",
       "      <th>YTD_LY</th>\n",
       "      <th>YTD</th>\n",
       "      <th>Measure</th>\n",
       "    </tr>\n",
       "  </thead>\n",
       "  <tbody>\n",
       "    <tr>\n",
       "      <th>550</th>\n",
       "      <td>D5</td>\n",
       "      <td>Levolet R tab f/c 250mg №10</td>\n",
       "      <td>300004773</td>\n",
       "      <td>970</td>\n",
       "      <td>11.00</td>\n",
       "      <td>5887</td>\n",
       "      <td>5,426.00</td>\n",
       "      <td>Packs</td>\n",
       "    </tr>\n",
       "    <tr>\n",
       "      <th>474</th>\n",
       "      <td>D4</td>\n",
       "      <td>Momat Rino 60</td>\n",
       "      <td>300034653</td>\n",
       "      <td>924</td>\n",
       "      <td>0.00</td>\n",
       "      <td>4725</td>\n",
       "      <td>5,321.00</td>\n",
       "      <td>Packs</td>\n",
       "    </tr>\n",
       "  </tbody>\n",
       "</table>\n",
       "</div>"
      ],
      "text/plain": [
       "    Distributor              Product_name_SS Product_id_SS  Cur_mon_LY  \\\n",
       "550          D5  Levolet R tab f/c 250mg №10     300004773         970   \n",
       "474          D4                Momat Rino 60     300034653         924   \n",
       "\n",
       "     Cur_mon  YTD_LY      YTD Measure  \n",
       "550    11.00    5887 5,426.00   Packs  \n",
       "474     0.00    4725 5,321.00   Packs  "
      ]
     },
     "execution_count": 104,
     "metadata": {},
     "output_type": "execute_result"
    }
   ],
   "source": [
    "selected_all.sample(2)"
   ]
  },
  {
   "cell_type": "markdown",
   "metadata": {},
   "source": [
    "# 16) Добавляем приросты"
   ]
  },
  {
   "cell_type": "code",
   "execution_count": 105,
   "metadata": {},
   "outputs": [],
   "source": [
    "selected_all['Gr_mon'] = [Grt_month(row) for row in range(len(selected_all))]\n",
    "selected_all['Gr_ytd'] = [Grt_YTD(row) for row in range(len(selected_all))]"
   ]
  },
  {
   "cell_type": "code",
   "execution_count": 106,
   "metadata": {},
   "outputs": [
    {
     "data": {
      "text/html": [
       "<div>\n",
       "<style scoped>\n",
       "    .dataframe tbody tr th:only-of-type {\n",
       "        vertical-align: middle;\n",
       "    }\n",
       "\n",
       "    .dataframe tbody tr th {\n",
       "        vertical-align: top;\n",
       "    }\n",
       "\n",
       "    .dataframe thead th {\n",
       "        text-align: right;\n",
       "    }\n",
       "</style>\n",
       "<table border=\"1\" class=\"dataframe\">\n",
       "  <thead>\n",
       "    <tr style=\"text-align: right;\">\n",
       "      <th></th>\n",
       "      <th>Distributor</th>\n",
       "      <th>Product_name_SS</th>\n",
       "      <th>Product_id_SS</th>\n",
       "      <th>Cur_mon_LY</th>\n",
       "      <th>Cur_mon</th>\n",
       "      <th>YTD_LY</th>\n",
       "      <th>YTD</th>\n",
       "      <th>Measure</th>\n",
       "      <th>Gr_mon</th>\n",
       "      <th>Gr_ytd</th>\n",
       "    </tr>\n",
       "  </thead>\n",
       "  <tbody>\n",
       "    <tr>\n",
       "      <th>1440</th>\n",
       "      <td>D3</td>\n",
       "      <td>Niselat tab 600mg №20</td>\n",
       "      <td>300008097</td>\n",
       "      <td>214830</td>\n",
       "      <td>63,240.00</td>\n",
       "      <td>6148230</td>\n",
       "      <td>3,073,650.00</td>\n",
       "      <td>RUB</td>\n",
       "      <td>-0.71</td>\n",
       "      <td>-0.50</td>\n",
       "    </tr>\n",
       "    <tr>\n",
       "      <th>292</th>\n",
       "      <td>D2</td>\n",
       "      <td>Levolet R tab f/c 250mg №10</td>\n",
       "      <td>300004773</td>\n",
       "      <td>872</td>\n",
       "      <td>0.00</td>\n",
       "      <td>7207</td>\n",
       "      <td>6,845.00</td>\n",
       "      <td>Packs</td>\n",
       "      <td>-1.00</td>\n",
       "      <td>-0.05</td>\n",
       "    </tr>\n",
       "  </tbody>\n",
       "</table>\n",
       "</div>"
      ],
      "text/plain": [
       "     Distributor              Product_name_SS Product_id_SS  Cur_mon_LY  \\\n",
       "1440          D3        Niselat tab 600mg №20     300008097      214830   \n",
       "292           D2  Levolet R tab f/c 250mg №10     300004773         872   \n",
       "\n",
       "       Cur_mon   YTD_LY          YTD Measure  Gr_mon  Gr_ytd  \n",
       "1440 63,240.00  6148230 3,073,650.00     RUB   -0.71   -0.50  \n",
       "292       0.00     7207     6,845.00   Packs   -1.00   -0.05  "
      ]
     },
     "execution_count": 106,
     "metadata": {},
     "output_type": "execute_result"
    }
   ],
   "source": [
    "selected_all.sample(2)"
   ]
  },
  {
   "cell_type": "markdown",
   "metadata": {},
   "source": [
    "# 17) Выстраиваем в нужный вид\n",
    "Перевод из Плоского списка в Отчётный вид"
   ]
  },
  {
   "cell_type": "code",
   "execution_count": 107,
   "metadata": {},
   "outputs": [],
   "source": [
    "D = selected_all.pivot_table(index = ['Product_name_SS','Product_id_SS'], columns = ['Distributor', 'Measure'], \n",
    "                    values = ['Cur_mon', 'Cur_mon_LY','Gr_mon', 'YTD', 'YTD_LY', 'Gr_ytd'], aggfunc = 'mean', fill_value=0)"
   ]
  },
  {
   "cell_type": "code",
   "execution_count": 108,
   "metadata": {},
   "outputs": [
    {
     "data": {
      "text/html": [
       "<div>\n",
       "<style scoped>\n",
       "    .dataframe tbody tr th:only-of-type {\n",
       "        vertical-align: middle;\n",
       "    }\n",
       "\n",
       "    .dataframe tbody tr th {\n",
       "        vertical-align: top;\n",
       "    }\n",
       "\n",
       "    .dataframe thead tr th {\n",
       "        text-align: left;\n",
       "    }\n",
       "\n",
       "    .dataframe thead tr:last-of-type th {\n",
       "        text-align: right;\n",
       "    }\n",
       "</style>\n",
       "<table border=\"1\" class=\"dataframe\">\n",
       "  <thead>\n",
       "    <tr>\n",
       "      <th></th>\n",
       "      <th></th>\n",
       "      <th colspan=\"10\" halign=\"left\">Cur_mon</th>\n",
       "      <th>...</th>\n",
       "      <th colspan=\"10\" halign=\"left\">YTD_LY</th>\n",
       "    </tr>\n",
       "    <tr>\n",
       "      <th></th>\n",
       "      <th>Distributor</th>\n",
       "      <th colspan=\"2\" halign=\"left\">D1</th>\n",
       "      <th colspan=\"2\" halign=\"left\">D10</th>\n",
       "      <th colspan=\"2\" halign=\"left\">D11</th>\n",
       "      <th colspan=\"2\" halign=\"left\">D2</th>\n",
       "      <th colspan=\"2\" halign=\"left\">D3</th>\n",
       "      <th>...</th>\n",
       "      <th colspan=\"2\" halign=\"left\">D6</th>\n",
       "      <th colspan=\"2\" halign=\"left\">D7</th>\n",
       "      <th colspan=\"2\" halign=\"left\">D8</th>\n",
       "      <th colspan=\"2\" halign=\"left\">D9</th>\n",
       "      <th colspan=\"2\" halign=\"left\">Total</th>\n",
       "    </tr>\n",
       "    <tr>\n",
       "      <th></th>\n",
       "      <th>Measure</th>\n",
       "      <th>Packs</th>\n",
       "      <th>RUB</th>\n",
       "      <th>Packs</th>\n",
       "      <th>RUB</th>\n",
       "      <th>Packs</th>\n",
       "      <th>RUB</th>\n",
       "      <th>Packs</th>\n",
       "      <th>RUB</th>\n",
       "      <th>Packs</th>\n",
       "      <th>RUB</th>\n",
       "      <th>...</th>\n",
       "      <th>Packs</th>\n",
       "      <th>RUB</th>\n",
       "      <th>Packs</th>\n",
       "      <th>RUB</th>\n",
       "      <th>Packs</th>\n",
       "      <th>RUB</th>\n",
       "      <th>Packs</th>\n",
       "      <th>RUB</th>\n",
       "      <th>Packs</th>\n",
       "      <th>RUB</th>\n",
       "    </tr>\n",
       "    <tr>\n",
       "      <th>Product_name_SS</th>\n",
       "      <th>Product_id_SS</th>\n",
       "      <th></th>\n",
       "      <th></th>\n",
       "      <th></th>\n",
       "      <th></th>\n",
       "      <th></th>\n",
       "      <th></th>\n",
       "      <th></th>\n",
       "      <th></th>\n",
       "      <th></th>\n",
       "      <th></th>\n",
       "      <th></th>\n",
       "      <th></th>\n",
       "      <th></th>\n",
       "      <th></th>\n",
       "      <th></th>\n",
       "      <th></th>\n",
       "      <th></th>\n",
       "      <th></th>\n",
       "      <th></th>\n",
       "      <th></th>\n",
       "      <th></th>\n",
       "    </tr>\n",
       "  </thead>\n",
       "  <tbody>\n",
       "    <tr>\n",
       "      <th>Momat Rino Advance 75</th>\n",
       "      <th>300034607</th>\n",
       "      <td>253</td>\n",
       "      <td>58443</td>\n",
       "      <td>0</td>\n",
       "      <td>0</td>\n",
       "      <td>0</td>\n",
       "      <td>0</td>\n",
       "      <td>0</td>\n",
       "      <td>0</td>\n",
       "      <td>29</td>\n",
       "      <td>6699</td>\n",
       "      <td>...</td>\n",
       "      <td>7503</td>\n",
       "      <td>1733193</td>\n",
       "      <td>4260</td>\n",
       "      <td>984060</td>\n",
       "      <td>5593</td>\n",
       "      <td>1291983</td>\n",
       "      <td>5828</td>\n",
       "      <td>1346268</td>\n",
       "      <td>65707</td>\n",
       "      <td>15178317</td>\n",
       "    </tr>\n",
       "    <tr>\n",
       "      <th>Levolet R tab f/c 750mg №10</th>\n",
       "      <th>300022893</th>\n",
       "      <td>495</td>\n",
       "      <td>222750</td>\n",
       "      <td>0</td>\n",
       "      <td>0</td>\n",
       "      <td>360</td>\n",
       "      <td>162000</td>\n",
       "      <td>19</td>\n",
       "      <td>8550</td>\n",
       "      <td>65</td>\n",
       "      <td>29250</td>\n",
       "      <td>...</td>\n",
       "      <td>6815</td>\n",
       "      <td>3066750</td>\n",
       "      <td>6761</td>\n",
       "      <td>3042450</td>\n",
       "      <td>6333</td>\n",
       "      <td>2849850</td>\n",
       "      <td>3849</td>\n",
       "      <td>1732050</td>\n",
       "      <td>65685</td>\n",
       "      <td>29558250</td>\n",
       "    </tr>\n",
       "  </tbody>\n",
       "</table>\n",
       "<p>2 rows × 144 columns</p>\n",
       "</div>"
      ],
      "text/plain": [
       "                                          Cur_mon                          \\\n",
       "Distributor                                    D1           D10       D11   \n",
       "Measure                                     Packs     RUB Packs RUB Packs   \n",
       "Product_name_SS             Product_id_SS                                   \n",
       "Momat Rino Advance 75       300034607         253   58443     0   0     0   \n",
       "Levolet R tab f/c 750mg №10 300022893         495  222750     0   0   360   \n",
       "\n",
       "                                                                            \\\n",
       "Distributor                                          D2          D3          \n",
       "Measure                                       RUB Packs   RUB Packs    RUB   \n",
       "Product_name_SS             Product_id_SS                                    \n",
       "Momat Rino Advance 75       300034607           0     0     0    29   6699   \n",
       "Levolet R tab f/c 750mg №10 300022893      162000    19  8550    65  29250   \n",
       "\n",
       "                                           ... YTD_LY                          \\\n",
       "Distributor                                ...     D6             D7            \n",
       "Measure                                    ...  Packs      RUB Packs      RUB   \n",
       "Product_name_SS             Product_id_SS  ...                                  \n",
       "Momat Rino Advance 75       300034607      ...   7503  1733193  4260   984060   \n",
       "Levolet R tab f/c 750mg №10 300022893      ...   6815  3066750  6761  3042450   \n",
       "\n",
       "                                                                         \\\n",
       "Distributor                                  D8             D9            \n",
       "Measure                                   Packs      RUB Packs      RUB   \n",
       "Product_name_SS             Product_id_SS                                 \n",
       "Momat Rino Advance 75       300034607      5593  1291983  5828  1346268   \n",
       "Levolet R tab f/c 750mg №10 300022893      6333  2849850  3849  1732050   \n",
       "\n",
       "                                                            \n",
       "Distributor                                Total            \n",
       "Measure                                    Packs       RUB  \n",
       "Product_name_SS             Product_id_SS                   \n",
       "Momat Rino Advance 75       300034607      65707  15178317  \n",
       "Levolet R tab f/c 750mg №10 300022893      65685  29558250  \n",
       "\n",
       "[2 rows x 144 columns]"
      ]
     },
     "execution_count": 108,
     "metadata": {},
     "output_type": "execute_result"
    }
   ],
   "source": [
    "D.sample(2)"
   ]
  },
  {
   "cell_type": "code",
   "execution_count": 109,
   "metadata": {},
   "outputs": [],
   "source": [
    "D = D.reset_index().copy()"
   ]
  },
  {
   "cell_type": "code",
   "execution_count": 110,
   "metadata": {},
   "outputs": [],
   "source": [
    "D.columns = ['_'.join(col) for col in D.columns]"
   ]
  },
  {
   "cell_type": "code",
   "execution_count": 111,
   "metadata": {},
   "outputs": [],
   "source": [
    "D = D.rename(columns ={'Product_name_SS__': 'Product_name_SS', 'Product_id_SS__':'Product_id_SS'})"
   ]
  },
  {
   "cell_type": "code",
   "execution_count": 112,
   "metadata": {
    "scrolled": true
   },
   "outputs": [
    {
     "data": {
      "text/html": [
       "<div>\n",
       "<style scoped>\n",
       "    .dataframe tbody tr th:only-of-type {\n",
       "        vertical-align: middle;\n",
       "    }\n",
       "\n",
       "    .dataframe tbody tr th {\n",
       "        vertical-align: top;\n",
       "    }\n",
       "\n",
       "    .dataframe thead th {\n",
       "        text-align: right;\n",
       "    }\n",
       "</style>\n",
       "<table border=\"1\" class=\"dataframe\">\n",
       "  <thead>\n",
       "    <tr style=\"text-align: right;\">\n",
       "      <th></th>\n",
       "      <th>Product_name_SS</th>\n",
       "      <th>Product_id_SS</th>\n",
       "      <th>Cur_mon_D1_Packs</th>\n",
       "      <th>Cur_mon_D1_RUB</th>\n",
       "      <th>Cur_mon_D10_Packs</th>\n",
       "      <th>Cur_mon_D10_RUB</th>\n",
       "      <th>Cur_mon_D11_Packs</th>\n",
       "      <th>Cur_mon_D11_RUB</th>\n",
       "      <th>Cur_mon_D2_Packs</th>\n",
       "      <th>Cur_mon_D2_RUB</th>\n",
       "      <th>...</th>\n",
       "      <th>YTD_LY_D6_Packs</th>\n",
       "      <th>YTD_LY_D6_RUB</th>\n",
       "      <th>YTD_LY_D7_Packs</th>\n",
       "      <th>YTD_LY_D7_RUB</th>\n",
       "      <th>YTD_LY_D8_Packs</th>\n",
       "      <th>YTD_LY_D8_RUB</th>\n",
       "      <th>YTD_LY_D9_Packs</th>\n",
       "      <th>YTD_LY_D9_RUB</th>\n",
       "      <th>YTD_LY_Total_Packs</th>\n",
       "      <th>YTD_LY_Total_RUB</th>\n",
       "    </tr>\n",
       "  </thead>\n",
       "  <tbody>\n",
       "    <tr>\n",
       "      <th>0</th>\n",
       "      <td>Allerway 5 mg tab №10</td>\n",
       "      <td>300027136</td>\n",
       "      <td>150</td>\n",
       "      <td>29850</td>\n",
       "      <td>0</td>\n",
       "      <td>0</td>\n",
       "      <td>887</td>\n",
       "      <td>176513</td>\n",
       "      <td>66</td>\n",
       "      <td>13134</td>\n",
       "      <td>...</td>\n",
       "      <td>6051</td>\n",
       "      <td>1204149</td>\n",
       "      <td>6431</td>\n",
       "      <td>1279769</td>\n",
       "      <td>4430</td>\n",
       "      <td>881570</td>\n",
       "      <td>4576</td>\n",
       "      <td>910624</td>\n",
       "      <td>63464</td>\n",
       "      <td>12629336</td>\n",
       "    </tr>\n",
       "    <tr>\n",
       "      <th>1</th>\n",
       "      <td>Allerway 5 mg tab №30</td>\n",
       "      <td>300027158</td>\n",
       "      <td>158</td>\n",
       "      <td>127980</td>\n",
       "      <td>0</td>\n",
       "      <td>0</td>\n",
       "      <td>276</td>\n",
       "      <td>223560</td>\n",
       "      <td>76</td>\n",
       "      <td>61560</td>\n",
       "      <td>...</td>\n",
       "      <td>6301</td>\n",
       "      <td>5103810</td>\n",
       "      <td>3379</td>\n",
       "      <td>2736990</td>\n",
       "      <td>6338</td>\n",
       "      <td>5133780</td>\n",
       "      <td>5804</td>\n",
       "      <td>4701240</td>\n",
       "      <td>65803</td>\n",
       "      <td>53300430</td>\n",
       "    </tr>\n",
       "  </tbody>\n",
       "</table>\n",
       "<p>2 rows × 146 columns</p>\n",
       "</div>"
      ],
      "text/plain": [
       "         Product_name_SS Product_id_SS  Cur_mon_D1_Packs  Cur_mon_D1_RUB  \\\n",
       "0  Allerway 5 mg tab №10     300027136               150           29850   \n",
       "1  Allerway 5 mg tab №30     300027158               158          127980   \n",
       "\n",
       "   Cur_mon_D10_Packs  Cur_mon_D10_RUB  Cur_mon_D11_Packs  Cur_mon_D11_RUB  \\\n",
       "0                  0                0                887           176513   \n",
       "1                  0                0                276           223560   \n",
       "\n",
       "   Cur_mon_D2_Packs  Cur_mon_D2_RUB  ...  YTD_LY_D6_Packs  YTD_LY_D6_RUB  \\\n",
       "0                66           13134  ...             6051        1204149   \n",
       "1                76           61560  ...             6301        5103810   \n",
       "\n",
       "   YTD_LY_D7_Packs  YTD_LY_D7_RUB  YTD_LY_D8_Packs  YTD_LY_D8_RUB  \\\n",
       "0             6431        1279769             4430         881570   \n",
       "1             3379        2736990             6338        5133780   \n",
       "\n",
       "   YTD_LY_D9_Packs  YTD_LY_D9_RUB  YTD_LY_Total_Packs  YTD_LY_Total_RUB  \n",
       "0             4576         910624               63464          12629336  \n",
       "1             5804        4701240               65803          53300430  \n",
       "\n",
       "[2 rows x 146 columns]"
      ]
     },
     "execution_count": 112,
     "metadata": {},
     "output_type": "execute_result"
    }
   ],
   "source": [
    "D.head(2)"
   ]
  },
  {
   "cell_type": "markdown",
   "metadata": {},
   "source": [
    "# Проверка итогов"
   ]
  },
  {
   "cell_type": "code",
   "execution_count": 113,
   "metadata": {},
   "outputs": [],
   "source": [
    "check_total = D[['Product_name_SS', 'Product_id_SS',\n",
    "    'Cur_mon_Total_Packs',  'Cur_mon_Total_RUB', 'Cur_mon_LY_Total_Packs', 'Cur_mon_LY_Total_RUB',\n",
    "    'YTD_Total_Packs', 'YTD_Total_RUB', 'YTD_LY_Total_Packs', 'YTD_LY_Total_RUB']]"
   ]
  },
  {
   "cell_type": "code",
   "execution_count": 114,
   "metadata": {},
   "outputs": [
    {
     "data": {
      "text/html": [
       "<div>\n",
       "<style scoped>\n",
       "    .dataframe tbody tr th:only-of-type {\n",
       "        vertical-align: middle;\n",
       "    }\n",
       "\n",
       "    .dataframe tbody tr th {\n",
       "        vertical-align: top;\n",
       "    }\n",
       "\n",
       "    .dataframe thead th {\n",
       "        text-align: right;\n",
       "    }\n",
       "</style>\n",
       "<table border=\"1\" class=\"dataframe\">\n",
       "  <thead>\n",
       "    <tr style=\"text-align: right;\">\n",
       "      <th></th>\n",
       "      <th>Product_name_SS</th>\n",
       "      <th>Product_id_SS</th>\n",
       "      <th>Cur_mon_Total_Packs</th>\n",
       "      <th>Cur_mon_Total_RUB</th>\n",
       "      <th>Cur_mon_LY_Total_Packs</th>\n",
       "      <th>Cur_mon_LY_Total_RUB</th>\n",
       "      <th>YTD_Total_Packs</th>\n",
       "      <th>YTD_Total_RUB</th>\n",
       "      <th>YTD_LY_Total_Packs</th>\n",
       "      <th>YTD_LY_Total_RUB</th>\n",
       "    </tr>\n",
       "  </thead>\n",
       "  <tbody>\n",
       "    <tr>\n",
       "      <th>86</th>\n",
       "      <td>Total</td>\n",
       "      <td>Total</td>\n",
       "      <td>304713</td>\n",
       "      <td>163891851</td>\n",
       "      <td>458216</td>\n",
       "      <td>231366053</td>\n",
       "      <td>5502708</td>\n",
       "      <td>2766813293</td>\n",
       "      <td>5651237</td>\n",
       "      <td>2850686690</td>\n",
       "    </tr>\n",
       "  </tbody>\n",
       "</table>\n",
       "</div>"
      ],
      "text/plain": [
       "   Product_name_SS Product_id_SS  Cur_mon_Total_Packs  Cur_mon_Total_RUB  \\\n",
       "86           Total         Total               304713          163891851   \n",
       "\n",
       "    Cur_mon_LY_Total_Packs  Cur_mon_LY_Total_RUB  YTD_Total_Packs  \\\n",
       "86                  458216             231366053          5502708   \n",
       "\n",
       "    YTD_Total_RUB  YTD_LY_Total_Packs  YTD_LY_Total_RUB  \n",
       "86     2766813293             5651237        2850686690  "
      ]
     },
     "execution_count": 114,
     "metadata": {},
     "output_type": "execute_result"
    }
   ],
   "source": [
    "check_total[check_total.Product_name_SS=='Total']"
   ]
  },
  {
   "cell_type": "code",
   "execution_count": 115,
   "metadata": {},
   "outputs": [
    {
     "data": {
      "text/html": [
       "<div>\n",
       "<style scoped>\n",
       "    .dataframe tbody tr th:only-of-type {\n",
       "        vertical-align: middle;\n",
       "    }\n",
       "\n",
       "    .dataframe tbody tr th {\n",
       "        vertical-align: top;\n",
       "    }\n",
       "\n",
       "    .dataframe thead th {\n",
       "        text-align: right;\n",
       "    }\n",
       "</style>\n",
       "<table border=\"1\" class=\"dataframe\">\n",
       "  <thead>\n",
       "    <tr style=\"text-align: right;\">\n",
       "      <th></th>\n",
       "      <th>Product_name_SS</th>\n",
       "      <th>Product_id_SS</th>\n",
       "      <th>Cur_mon_Total_Packs</th>\n",
       "      <th>Cur_mon_Total_RUB</th>\n",
       "      <th>Cur_mon_LY_Total_Packs</th>\n",
       "      <th>Cur_mon_LY_Total_RUB</th>\n",
       "      <th>YTD_Total_Packs</th>\n",
       "      <th>YTD_Total_RUB</th>\n",
       "      <th>YTD_LY_Total_Packs</th>\n",
       "      <th>YTD_LY_Total_RUB</th>\n",
       "    </tr>\n",
       "  </thead>\n",
       "  <tbody>\n",
       "    <tr>\n",
       "      <th>0</th>\n",
       "      <td>Allerway 5 mg tab №10</td>\n",
       "      <td>300027136</td>\n",
       "      <td>2484</td>\n",
       "      <td>494316</td>\n",
       "      <td>4581</td>\n",
       "      <td>911619</td>\n",
       "      <td>63595</td>\n",
       "      <td>12655405</td>\n",
       "      <td>63464</td>\n",
       "      <td>12629336</td>\n",
       "    </tr>\n",
       "    <tr>\n",
       "      <th>1</th>\n",
       "      <td>Allerway 5 mg tab №30</td>\n",
       "      <td>300027158</td>\n",
       "      <td>1125</td>\n",
       "      <td>911250</td>\n",
       "      <td>4497</td>\n",
       "      <td>3642570</td>\n",
       "      <td>59849</td>\n",
       "      <td>48477690</td>\n",
       "      <td>65803</td>\n",
       "      <td>53300430</td>\n",
       "    </tr>\n",
       "    <tr>\n",
       "      <th>2</th>\n",
       "      <td>Allerway Express (1x10s)Tab Russia</td>\n",
       "      <td>300031318</td>\n",
       "      <td>744</td>\n",
       "      <td>303552</td>\n",
       "      <td>6134</td>\n",
       "      <td>2502672</td>\n",
       "      <td>58277</td>\n",
       "      <td>23777016</td>\n",
       "      <td>62394</td>\n",
       "      <td>25456752</td>\n",
       "    </tr>\n",
       "    <tr>\n",
       "      <th>3</th>\n",
       "      <td>Bion 3 tab №10</td>\n",
       "      <td>300001611</td>\n",
       "      <td>259</td>\n",
       "      <td>95312</td>\n",
       "      <td>6482</td>\n",
       "      <td>2385376</td>\n",
       "      <td>62471</td>\n",
       "      <td>22989328</td>\n",
       "      <td>67822</td>\n",
       "      <td>24958496</td>\n",
       "    </tr>\n",
       "    <tr>\n",
       "      <th>4</th>\n",
       "      <td>Bion 3 tab №30</td>\n",
       "      <td>300001761</td>\n",
       "      <td>2826</td>\n",
       "      <td>1251918</td>\n",
       "      <td>7090</td>\n",
       "      <td>3140870</td>\n",
       "      <td>59998</td>\n",
       "      <td>26579114</td>\n",
       "      <td>65405</td>\n",
       "      <td>28974415</td>\n",
       "    </tr>\n",
       "  </tbody>\n",
       "</table>\n",
       "</div>"
      ],
      "text/plain": [
       "                      Product_name_SS Product_id_SS  Cur_mon_Total_Packs  \\\n",
       "0               Allerway 5 mg tab №10     300027136                 2484   \n",
       "1               Allerway 5 mg tab №30     300027158                 1125   \n",
       "2  Allerway Express (1x10s)Tab Russia     300031318                  744   \n",
       "3                      Bion 3 tab №10     300001611                  259   \n",
       "4                      Bion 3 tab №30     300001761                 2826   \n",
       "\n",
       "   Cur_mon_Total_RUB  Cur_mon_LY_Total_Packs  Cur_mon_LY_Total_RUB  \\\n",
       "0             494316                    4581                911619   \n",
       "1             911250                    4497               3642570   \n",
       "2             303552                    6134               2502672   \n",
       "3              95312                    6482               2385376   \n",
       "4            1251918                    7090               3140870   \n",
       "\n",
       "   YTD_Total_Packs  YTD_Total_RUB  YTD_LY_Total_Packs  YTD_LY_Total_RUB  \n",
       "0            63595       12655405               63464          12629336  \n",
       "1            59849       48477690               65803          53300430  \n",
       "2            58277       23777016               62394          25456752  \n",
       "3            62471       22989328               67822          24958496  \n",
       "4            59998       26579114               65405          28974415  "
      ]
     },
     "execution_count": 115,
     "metadata": {},
     "output_type": "execute_result"
    }
   ],
   "source": [
    "check_total.head()"
   ]
  },
  {
   "cell_type": "markdown",
   "metadata": {},
   "source": [
    "# 18) Делим D на:  month  и  YTD "
   ]
  },
  {
   "cell_type": "code",
   "execution_count": 116,
   "metadata": {},
   "outputs": [],
   "source": [
    "month = D[['Product_name_SS', 'Product_id_SS',\n",
    "    'Cur_mon_Total_Packs', 'Cur_mon_Total_RUB', 'Gr_mon_Total_RUB',    \n",
    "    'Cur_mon_D1_Packs',  'Cur_mon_D1_RUB',   'Gr_mon_D1_RUB', \n",
    "    'Cur_mon_D2_Packs',  'Cur_mon_D2_RUB',   'Gr_mon_D2_RUB',\n",
    "    'Cur_mon_D3_Packs',  'Cur_mon_D3_RUB',   'Gr_mon_D3_RUB',   \n",
    "    'Cur_mon_D4_Packs',  'Cur_mon_D4_RUB',   'Gr_mon_D4_RUB',  \n",
    "    'Cur_mon_D5_Packs',  'Cur_mon_D5_RUB',   'Gr_mon_D5_RUB',\n",
    "    'Cur_mon_D6_Packs',  'Cur_mon_D6_RUB',   'Gr_mon_D6_RUB',           \n",
    "    'Cur_mon_D7_Packs',  'Cur_mon_D7_RUB',   'Gr_mon_D7_RUB',\n",
    "    'Cur_mon_D8_Packs',  'Cur_mon_D8_RUB',   'Gr_mon_D8_RUB',\n",
    "    'Cur_mon_D9_Packs',  'Cur_mon_D9_RUB',   'Gr_mon_D9_RUB', \n",
    "    'Cur_mon_D10_Packs', 'Cur_mon_D10_RUB',  'Gr_mon_D10_RUB',\n",
    "    'Cur_mon_D11_Packs', 'Cur_mon_D11_RUB',  'Gr_mon_D11_RUB']].copy()"
   ]
  },
  {
   "cell_type": "code",
   "execution_count": 117,
   "metadata": {},
   "outputs": [],
   "source": [
    "YTD = D[['Product_name_SS', 'Product_id_SS',\n",
    "    'YTD_Total_Packs', 'YTD_Total_RUB', 'Gr_ytd_Total_RUB',    \n",
    "    'YTD_D1_Packs',  'YTD_D1_RUB',   'Gr_ytd_D1_RUB', \n",
    "    'YTD_D2_Packs',  'YTD_D2_RUB',   'Gr_ytd_D2_RUB',\n",
    "    'YTD_D3_Packs',  'YTD_D3_RUB',   'Gr_ytd_D3_RUB',   \n",
    "    'YTD_D4_Packs',  'YTD_D4_RUB',   'Gr_ytd_D4_RUB',  \n",
    "    'YTD_D5_Packs',  'YTD_D5_RUB',   'Gr_ytd_D5_RUB',\n",
    "    'YTD_D6_Packs',  'YTD_D6_RUB',   'Gr_ytd_D6_RUB',           \n",
    "    'YTD_D7_Packs',  'YTD_D7_RUB',   'Gr_ytd_D7_RUB',\n",
    "    'YTD_D8_Packs',  'YTD_D8_RUB',   'Gr_ytd_D8_RUB',\n",
    "    'YTD_D9_Packs',  'YTD_D9_RUB',   'Gr_ytd_D9_RUB', \n",
    "    'YTD_D10_Packs', 'YTD_D10_RUB',  'Gr_ytd_D10_RUB',\n",
    "    'YTD_D11_Packs', 'YTD_D11_RUB',  'Gr_ytd_D11_RUB']].copy()"
   ]
  },
  {
   "cell_type": "code",
   "execution_count": 118,
   "metadata": {},
   "outputs": [
    {
     "data": {
      "text/html": [
       "<div>\n",
       "<style scoped>\n",
       "    .dataframe tbody tr th:only-of-type {\n",
       "        vertical-align: middle;\n",
       "    }\n",
       "\n",
       "    .dataframe tbody tr th {\n",
       "        vertical-align: top;\n",
       "    }\n",
       "\n",
       "    .dataframe thead th {\n",
       "        text-align: right;\n",
       "    }\n",
       "</style>\n",
       "<table border=\"1\" class=\"dataframe\">\n",
       "  <thead>\n",
       "    <tr style=\"text-align: right;\">\n",
       "      <th></th>\n",
       "      <th>Product_name_SS</th>\n",
       "      <th>Product_id_SS</th>\n",
       "      <th>Cur_mon_Total_Packs</th>\n",
       "      <th>Cur_mon_Total_RUB</th>\n",
       "      <th>Gr_mon_Total_RUB</th>\n",
       "      <th>Cur_mon_D1_Packs</th>\n",
       "      <th>Cur_mon_D1_RUB</th>\n",
       "      <th>Gr_mon_D1_RUB</th>\n",
       "      <th>Cur_mon_D2_Packs</th>\n",
       "      <th>Cur_mon_D2_RUB</th>\n",
       "      <th>...</th>\n",
       "      <th>Gr_mon_D8_RUB</th>\n",
       "      <th>Cur_mon_D9_Packs</th>\n",
       "      <th>Cur_mon_D9_RUB</th>\n",
       "      <th>Gr_mon_D9_RUB</th>\n",
       "      <th>Cur_mon_D10_Packs</th>\n",
       "      <th>Cur_mon_D10_RUB</th>\n",
       "      <th>Gr_mon_D10_RUB</th>\n",
       "      <th>Cur_mon_D11_Packs</th>\n",
       "      <th>Cur_mon_D11_RUB</th>\n",
       "      <th>Gr_mon_D11_RUB</th>\n",
       "    </tr>\n",
       "  </thead>\n",
       "  <tbody>\n",
       "    <tr>\n",
       "      <th>0</th>\n",
       "      <td>Allerway 5 mg tab №10</td>\n",
       "      <td>300027136</td>\n",
       "      <td>2484</td>\n",
       "      <td>494316</td>\n",
       "      <td>-0.46</td>\n",
       "      <td>150</td>\n",
       "      <td>29850</td>\n",
       "      <td>-0.67</td>\n",
       "      <td>66</td>\n",
       "      <td>13134</td>\n",
       "      <td>...</td>\n",
       "      <td>8.82</td>\n",
       "      <td>120</td>\n",
       "      <td>23880</td>\n",
       "      <td>9.91</td>\n",
       "      <td>0</td>\n",
       "      <td>0</td>\n",
       "      <td>-1.00</td>\n",
       "      <td>887</td>\n",
       "      <td>176513</td>\n",
       "      <td>14.03</td>\n",
       "    </tr>\n",
       "    <tr>\n",
       "      <th>1</th>\n",
       "      <td>Allerway 5 mg tab №30</td>\n",
       "      <td>300027158</td>\n",
       "      <td>1125</td>\n",
       "      <td>911250</td>\n",
       "      <td>-0.75</td>\n",
       "      <td>158</td>\n",
       "      <td>127980</td>\n",
       "      <td>-0.16</td>\n",
       "      <td>76</td>\n",
       "      <td>61560</td>\n",
       "      <td>...</td>\n",
       "      <td>-0.78</td>\n",
       "      <td>6</td>\n",
       "      <td>4860</td>\n",
       "      <td>-0.96</td>\n",
       "      <td>0</td>\n",
       "      <td>0</td>\n",
       "      <td>-1.00</td>\n",
       "      <td>276</td>\n",
       "      <td>223560</td>\n",
       "      <td>-0.24</td>\n",
       "    </tr>\n",
       "    <tr>\n",
       "      <th>2</th>\n",
       "      <td>Allerway Express (1x10s)Tab Russia</td>\n",
       "      <td>300031318</td>\n",
       "      <td>744</td>\n",
       "      <td>303552</td>\n",
       "      <td>-0.88</td>\n",
       "      <td>66</td>\n",
       "      <td>26928</td>\n",
       "      <td>-0.91</td>\n",
       "      <td>2</td>\n",
       "      <td>816</td>\n",
       "      <td>...</td>\n",
       "      <td>-0.07</td>\n",
       "      <td>16</td>\n",
       "      <td>6528</td>\n",
       "      <td>-0.95</td>\n",
       "      <td>0</td>\n",
       "      <td>0</td>\n",
       "      <td>-1.00</td>\n",
       "      <td>0</td>\n",
       "      <td>0</td>\n",
       "      <td>-1.00</td>\n",
       "    </tr>\n",
       "    <tr>\n",
       "      <th>3</th>\n",
       "      <td>Bion 3 tab №10</td>\n",
       "      <td>300001611</td>\n",
       "      <td>259</td>\n",
       "      <td>95312</td>\n",
       "      <td>-0.96</td>\n",
       "      <td>84</td>\n",
       "      <td>30912</td>\n",
       "      <td>-0.90</td>\n",
       "      <td>0</td>\n",
       "      <td>0</td>\n",
       "      <td>...</td>\n",
       "      <td>-1.00</td>\n",
       "      <td>4</td>\n",
       "      <td>1472</td>\n",
       "      <td>-0.99</td>\n",
       "      <td>0</td>\n",
       "      <td>0</td>\n",
       "      <td>-1.00</td>\n",
       "      <td>0</td>\n",
       "      <td>0</td>\n",
       "      <td>-1.00</td>\n",
       "    </tr>\n",
       "    <tr>\n",
       "      <th>4</th>\n",
       "      <td>Bion 3 tab №30</td>\n",
       "      <td>300001761</td>\n",
       "      <td>2826</td>\n",
       "      <td>1251918</td>\n",
       "      <td>-0.60</td>\n",
       "      <td>100</td>\n",
       "      <td>44300</td>\n",
       "      <td>-0.76</td>\n",
       "      <td>0</td>\n",
       "      <td>0</td>\n",
       "      <td>...</td>\n",
       "      <td>-0.32</td>\n",
       "      <td>217</td>\n",
       "      <td>96131</td>\n",
       "      <td>0.02</td>\n",
       "      <td>0</td>\n",
       "      <td>0</td>\n",
       "      <td>-1.00</td>\n",
       "      <td>972</td>\n",
       "      <td>430596</td>\n",
       "      <td>0.13</td>\n",
       "    </tr>\n",
       "  </tbody>\n",
       "</table>\n",
       "<p>5 rows × 38 columns</p>\n",
       "</div>"
      ],
      "text/plain": [
       "                      Product_name_SS Product_id_SS  Cur_mon_Total_Packs  \\\n",
       "0               Allerway 5 mg tab №10     300027136                 2484   \n",
       "1               Allerway 5 mg tab №30     300027158                 1125   \n",
       "2  Allerway Express (1x10s)Tab Russia     300031318                  744   \n",
       "3                      Bion 3 tab №10     300001611                  259   \n",
       "4                      Bion 3 tab №30     300001761                 2826   \n",
       "\n",
       "   Cur_mon_Total_RUB  Gr_mon_Total_RUB  Cur_mon_D1_Packs  Cur_mon_D1_RUB  \\\n",
       "0             494316             -0.46               150           29850   \n",
       "1             911250             -0.75               158          127980   \n",
       "2             303552             -0.88                66           26928   \n",
       "3              95312             -0.96                84           30912   \n",
       "4            1251918             -0.60               100           44300   \n",
       "\n",
       "   Gr_mon_D1_RUB  Cur_mon_D2_Packs  Cur_mon_D2_RUB  ...  Gr_mon_D8_RUB  \\\n",
       "0          -0.67                66           13134  ...           8.82   \n",
       "1          -0.16                76           61560  ...          -0.78   \n",
       "2          -0.91                 2             816  ...          -0.07   \n",
       "3          -0.90                 0               0  ...          -1.00   \n",
       "4          -0.76                 0               0  ...          -0.32   \n",
       "\n",
       "   Cur_mon_D9_Packs  Cur_mon_D9_RUB  Gr_mon_D9_RUB  Cur_mon_D10_Packs  \\\n",
       "0               120           23880           9.91                  0   \n",
       "1                 6            4860          -0.96                  0   \n",
       "2                16            6528          -0.95                  0   \n",
       "3                 4            1472          -0.99                  0   \n",
       "4               217           96131           0.02                  0   \n",
       "\n",
       "   Cur_mon_D10_RUB  Gr_mon_D10_RUB  Cur_mon_D11_Packs  Cur_mon_D11_RUB  \\\n",
       "0                0           -1.00                887           176513   \n",
       "1                0           -1.00                276           223560   \n",
       "2                0           -1.00                  0                0   \n",
       "3                0           -1.00                  0                0   \n",
       "4                0           -1.00                972           430596   \n",
       "\n",
       "   Gr_mon_D11_RUB  \n",
       "0           14.03  \n",
       "1           -0.24  \n",
       "2           -1.00  \n",
       "3           -1.00  \n",
       "4            0.13  \n",
       "\n",
       "[5 rows x 38 columns]"
      ]
     },
     "execution_count": 118,
     "metadata": {},
     "output_type": "execute_result"
    }
   ],
   "source": [
    "month.head()"
   ]
  },
  {
   "cell_type": "code",
   "execution_count": 119,
   "metadata": {},
   "outputs": [
    {
     "data": {
      "text/html": [
       "<div>\n",
       "<style scoped>\n",
       "    .dataframe tbody tr th:only-of-type {\n",
       "        vertical-align: middle;\n",
       "    }\n",
       "\n",
       "    .dataframe tbody tr th {\n",
       "        vertical-align: top;\n",
       "    }\n",
       "\n",
       "    .dataframe thead th {\n",
       "        text-align: right;\n",
       "    }\n",
       "</style>\n",
       "<table border=\"1\" class=\"dataframe\">\n",
       "  <thead>\n",
       "    <tr style=\"text-align: right;\">\n",
       "      <th></th>\n",
       "      <th>Product_name_SS</th>\n",
       "      <th>Product_id_SS</th>\n",
       "      <th>YTD_Total_Packs</th>\n",
       "      <th>YTD_Total_RUB</th>\n",
       "      <th>Gr_ytd_Total_RUB</th>\n",
       "      <th>YTD_D1_Packs</th>\n",
       "      <th>YTD_D1_RUB</th>\n",
       "      <th>Gr_ytd_D1_RUB</th>\n",
       "      <th>YTD_D2_Packs</th>\n",
       "      <th>YTD_D2_RUB</th>\n",
       "      <th>...</th>\n",
       "      <th>Gr_ytd_D8_RUB</th>\n",
       "      <th>YTD_D9_Packs</th>\n",
       "      <th>YTD_D9_RUB</th>\n",
       "      <th>Gr_ytd_D9_RUB</th>\n",
       "      <th>YTD_D10_Packs</th>\n",
       "      <th>YTD_D10_RUB</th>\n",
       "      <th>Gr_ytd_D10_RUB</th>\n",
       "      <th>YTD_D11_Packs</th>\n",
       "      <th>YTD_D11_RUB</th>\n",
       "      <th>Gr_ytd_D11_RUB</th>\n",
       "    </tr>\n",
       "  </thead>\n",
       "  <tbody>\n",
       "    <tr>\n",
       "      <th>0</th>\n",
       "      <td>Allerway 5 mg tab №10</td>\n",
       "      <td>300027136</td>\n",
       "      <td>63595</td>\n",
       "      <td>12655405</td>\n",
       "      <td>0.00</td>\n",
       "      <td>5776</td>\n",
       "      <td>1149424</td>\n",
       "      <td>0.22</td>\n",
       "      <td>4753</td>\n",
       "      <td>945847</td>\n",
       "      <td>...</td>\n",
       "      <td>0.81</td>\n",
       "      <td>4903</td>\n",
       "      <td>975697</td>\n",
       "      <td>0.07</td>\n",
       "      <td>5728</td>\n",
       "      <td>1139872</td>\n",
       "      <td>0.15</td>\n",
       "      <td>6373</td>\n",
       "      <td>1268227</td>\n",
       "      <td>-0.20</td>\n",
       "    </tr>\n",
       "    <tr>\n",
       "      <th>1</th>\n",
       "      <td>Allerway 5 mg tab №30</td>\n",
       "      <td>300027158</td>\n",
       "      <td>59849</td>\n",
       "      <td>48477690</td>\n",
       "      <td>-0.09</td>\n",
       "      <td>5564</td>\n",
       "      <td>4506840</td>\n",
       "      <td>-0.13</td>\n",
       "      <td>5093</td>\n",
       "      <td>4125330</td>\n",
       "      <td>...</td>\n",
       "      <td>-0.30</td>\n",
       "      <td>5489</td>\n",
       "      <td>4446090</td>\n",
       "      <td>-0.05</td>\n",
       "      <td>6440</td>\n",
       "      <td>5216400</td>\n",
       "      <td>-0.03</td>\n",
       "      <td>5697</td>\n",
       "      <td>4614570</td>\n",
       "      <td>-0.06</td>\n",
       "    </tr>\n",
       "    <tr>\n",
       "      <th>2</th>\n",
       "      <td>Allerway Express (1x10s)Tab Russia</td>\n",
       "      <td>300031318</td>\n",
       "      <td>58277</td>\n",
       "      <td>23777016</td>\n",
       "      <td>-0.07</td>\n",
       "      <td>4708</td>\n",
       "      <td>1920864</td>\n",
       "      <td>-0.23</td>\n",
       "      <td>7290</td>\n",
       "      <td>2974320</td>\n",
       "      <td>...</td>\n",
       "      <td>0.02</td>\n",
       "      <td>3800</td>\n",
       "      <td>1550400</td>\n",
       "      <td>-0.41</td>\n",
       "      <td>4829</td>\n",
       "      <td>1970232</td>\n",
       "      <td>-0.15</td>\n",
       "      <td>4194</td>\n",
       "      <td>1711152</td>\n",
       "      <td>-0.18</td>\n",
       "    </tr>\n",
       "    <tr>\n",
       "      <th>3</th>\n",
       "      <td>Bion 3 tab №10</td>\n",
       "      <td>300001611</td>\n",
       "      <td>62471</td>\n",
       "      <td>22989328</td>\n",
       "      <td>-0.08</td>\n",
       "      <td>6627</td>\n",
       "      <td>2438736</td>\n",
       "      <td>-0.05</td>\n",
       "      <td>4847</td>\n",
       "      <td>1783696</td>\n",
       "      <td>...</td>\n",
       "      <td>-0.21</td>\n",
       "      <td>4794</td>\n",
       "      <td>1764192</td>\n",
       "      <td>0.00</td>\n",
       "      <td>5975</td>\n",
       "      <td>2198800</td>\n",
       "      <td>-0.13</td>\n",
       "      <td>7432</td>\n",
       "      <td>2734976</td>\n",
       "      <td>0.54</td>\n",
       "    </tr>\n",
       "    <tr>\n",
       "      <th>4</th>\n",
       "      <td>Bion 3 tab №30</td>\n",
       "      <td>300001761</td>\n",
       "      <td>59998</td>\n",
       "      <td>26579114</td>\n",
       "      <td>-0.08</td>\n",
       "      <td>4254</td>\n",
       "      <td>1884522</td>\n",
       "      <td>-0.35</td>\n",
       "      <td>6030</td>\n",
       "      <td>2671290</td>\n",
       "      <td>...</td>\n",
       "      <td>-0.12</td>\n",
       "      <td>6130</td>\n",
       "      <td>2715590</td>\n",
       "      <td>0.33</td>\n",
       "      <td>4355</td>\n",
       "      <td>1929265</td>\n",
       "      <td>-0.21</td>\n",
       "      <td>6222</td>\n",
       "      <td>2756346</td>\n",
       "      <td>0.34</td>\n",
       "    </tr>\n",
       "  </tbody>\n",
       "</table>\n",
       "<p>5 rows × 38 columns</p>\n",
       "</div>"
      ],
      "text/plain": [
       "                      Product_name_SS Product_id_SS  YTD_Total_Packs  \\\n",
       "0               Allerway 5 mg tab №10     300027136            63595   \n",
       "1               Allerway 5 mg tab №30     300027158            59849   \n",
       "2  Allerway Express (1x10s)Tab Russia     300031318            58277   \n",
       "3                      Bion 3 tab №10     300001611            62471   \n",
       "4                      Bion 3 tab №30     300001761            59998   \n",
       "\n",
       "   YTD_Total_RUB  Gr_ytd_Total_RUB  YTD_D1_Packs  YTD_D1_RUB  Gr_ytd_D1_RUB  \\\n",
       "0       12655405              0.00          5776     1149424           0.22   \n",
       "1       48477690             -0.09          5564     4506840          -0.13   \n",
       "2       23777016             -0.07          4708     1920864          -0.23   \n",
       "3       22989328             -0.08          6627     2438736          -0.05   \n",
       "4       26579114             -0.08          4254     1884522          -0.35   \n",
       "\n",
       "   YTD_D2_Packs  YTD_D2_RUB  ...  Gr_ytd_D8_RUB  YTD_D9_Packs  YTD_D9_RUB  \\\n",
       "0          4753      945847  ...           0.81          4903      975697   \n",
       "1          5093     4125330  ...          -0.30          5489     4446090   \n",
       "2          7290     2974320  ...           0.02          3800     1550400   \n",
       "3          4847     1783696  ...          -0.21          4794     1764192   \n",
       "4          6030     2671290  ...          -0.12          6130     2715590   \n",
       "\n",
       "   Gr_ytd_D9_RUB  YTD_D10_Packs  YTD_D10_RUB  Gr_ytd_D10_RUB  YTD_D11_Packs  \\\n",
       "0           0.07           5728      1139872            0.15           6373   \n",
       "1          -0.05           6440      5216400           -0.03           5697   \n",
       "2          -0.41           4829      1970232           -0.15           4194   \n",
       "3           0.00           5975      2198800           -0.13           7432   \n",
       "4           0.33           4355      1929265           -0.21           6222   \n",
       "\n",
       "   YTD_D11_RUB  Gr_ytd_D11_RUB  \n",
       "0      1268227           -0.20  \n",
       "1      4614570           -0.06  \n",
       "2      1711152           -0.18  \n",
       "3      2734976            0.54  \n",
       "4      2756346            0.34  \n",
       "\n",
       "[5 rows x 38 columns]"
      ]
     },
     "execution_count": 119,
     "metadata": {},
     "output_type": "execute_result"
    }
   ],
   "source": [
    "YTD.head()"
   ]
  },
  {
   "cell_type": "code",
   "execution_count": 121,
   "metadata": {},
   "outputs": [],
   "source": [
    "#month.to_excel('D_month.xlsx', index = False)\n",
    "#YTD.to_excel('D_YTD.xlsx', index = False)"
   ]
  }
 ],
 "metadata": {
  "kernelspec": {
   "display_name": "Python 3",
   "language": "python",
   "name": "python3"
  },
  "language_info": {
   "codemirror_mode": {
    "name": "ipython",
    "version": 3
   },
   "file_extension": ".py",
   "mimetype": "text/x-python",
   "name": "python",
   "nbconvert_exporter": "python",
   "pygments_lexer": "ipython3",
   "version": "3.8.3"
  }
 },
 "nbformat": 4,
 "nbformat_minor": 4
}
